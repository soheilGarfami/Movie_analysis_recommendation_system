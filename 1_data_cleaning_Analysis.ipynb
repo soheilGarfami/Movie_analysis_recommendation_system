{
 "cells": [
  {
   "cell_type": "markdown",
   "id": "5fd877f1-a4ea-4af2-8c9d-2ebd4a9de984",
   "metadata": {},
   "source": [
    "# step 1 : preprosseing and data cleaning "
   ]
  },
  {
   "cell_type": "markdown",
   "id": "eeee4be1-a789-4a09-90d4-ce1e8d57eb63",
   "metadata": {},
   "source": [
    "\r\n",
    "\r\n",
    "For this project, we have two different datasets:\r\n",
    "\r\n",
    "1. **ratings**: This dataset contains the ratings that people have given to movies, along with the timestamp of each rating.\r\n",
    "2. **movies**: This dataset includes the titles and genres of the movies.\r\n",
    "\r\n",
    "## Importing Essential Libraries\r\n",
    "\r\n",
    "First, let's import some essential libraries that we will use throughout the project.\r\n"
   ]
  },
  {
   "cell_type": "code",
   "execution_count": 1,
   "id": "0c8aef38-6e46-4fa6-8faf-011824a2ab81",
   "metadata": {},
   "outputs": [],
   "source": [
    "import pandas as pd \n",
    "import numpy as np\n",
    "import seaborn as sns\n",
    "import matplotlib.pyplot as plt  "
   ]
  },
  {
   "cell_type": "markdown",
   "id": "87e82a69-4cd7-4971-aefa-b5ad77c9a998",
   "metadata": {},
   "source": [
    "## Uploading the Data\r\n",
    "\r\n",
    "We have found two different versions for each dataset. Each version contains a different number of rows. To maximize the data available for our analysis, we will concatenate both versions of each dataset.\r\n",
    "\r\n",
    "- **Ratings Datasets**: `rating1`, `rating2`\r\n",
    "- **Movies Datasets**: `movie1`, `movie2`\r\n",
    "\r\n",
    "By merging these datasets, we aim to obtain the most comprehensive set of data for our analysis.\r\n"
   ]
  },
  {
   "cell_type": "markdown",
   "id": "6393178f-ea97-4003-a2b8-9b5bef8702a5",
   "metadata": {},
   "source": [
    "**1.Importing ratings datasets**"
   ]
  },
  {
   "cell_type": "code",
   "execution_count": 2,
   "id": "36db9715-a10f-4b8a-ac3f-d44d16148e32",
   "metadata": {},
   "outputs": [
    {
     "data": {
      "text/html": [
       "<div>\n",
       "<style scoped>\n",
       "    .dataframe tbody tr th:only-of-type {\n",
       "        vertical-align: middle;\n",
       "    }\n",
       "\n",
       "    .dataframe tbody tr th {\n",
       "        vertical-align: top;\n",
       "    }\n",
       "\n",
       "    .dataframe thead th {\n",
       "        text-align: right;\n",
       "    }\n",
       "</style>\n",
       "<table border=\"1\" class=\"dataframe\">\n",
       "  <thead>\n",
       "    <tr style=\"text-align: right;\">\n",
       "      <th></th>\n",
       "      <th>userId</th>\n",
       "      <th>movieId</th>\n",
       "      <th>rating</th>\n",
       "      <th>timestamp</th>\n",
       "    </tr>\n",
       "  </thead>\n",
       "  <tbody>\n",
       "    <tr>\n",
       "      <th>0</th>\n",
       "      <td>1</td>\n",
       "      <td>1</td>\n",
       "      <td>4.0</td>\n",
       "      <td>964982703</td>\n",
       "    </tr>\n",
       "    <tr>\n",
       "      <th>1</th>\n",
       "      <td>1</td>\n",
       "      <td>3</td>\n",
       "      <td>4.0</td>\n",
       "      <td>964981247</td>\n",
       "    </tr>\n",
       "    <tr>\n",
       "      <th>2</th>\n",
       "      <td>1</td>\n",
       "      <td>6</td>\n",
       "      <td>4.0</td>\n",
       "      <td>964982224</td>\n",
       "    </tr>\n",
       "  </tbody>\n",
       "</table>\n",
       "</div>"
      ],
      "text/plain": [
       "   userId  movieId  rating  timestamp\n",
       "0       1        1     4.0  964982703\n",
       "1       1        3     4.0  964981247\n",
       "2       1        6     4.0  964982224"
      ]
     },
     "execution_count": 2,
     "metadata": {},
     "output_type": "execute_result"
    }
   ],
   "source": [
    "#the first dataset\n",
    "rating1 = pd.read_csv(\"data/ratings1.csv\")\n",
    "rating1.head(3)"
   ]
  },
  {
   "cell_type": "code",
   "execution_count": 3,
   "id": "c46f5176-1d06-4bb2-9e5f-93549d5562b1",
   "metadata": {},
   "outputs": [
    {
     "data": {
      "text/html": [
       "<div>\n",
       "<style scoped>\n",
       "    .dataframe tbody tr th:only-of-type {\n",
       "        vertical-align: middle;\n",
       "    }\n",
       "\n",
       "    .dataframe tbody tr th {\n",
       "        vertical-align: top;\n",
       "    }\n",
       "\n",
       "    .dataframe thead th {\n",
       "        text-align: right;\n",
       "    }\n",
       "</style>\n",
       "<table border=\"1\" class=\"dataframe\">\n",
       "  <thead>\n",
       "    <tr style=\"text-align: right;\">\n",
       "      <th></th>\n",
       "      <th>userId</th>\n",
       "      <th>movieId</th>\n",
       "      <th>rating</th>\n",
       "      <th>timestamp</th>\n",
       "    </tr>\n",
       "  </thead>\n",
       "  <tbody>\n",
       "    <tr>\n",
       "      <th>0</th>\n",
       "      <td>1</td>\n",
       "      <td>169</td>\n",
       "      <td>2.5</td>\n",
       "      <td>1204927694</td>\n",
       "    </tr>\n",
       "    <tr>\n",
       "      <th>1</th>\n",
       "      <td>1</td>\n",
       "      <td>2471</td>\n",
       "      <td>3.0</td>\n",
       "      <td>1204927438</td>\n",
       "    </tr>\n",
       "    <tr>\n",
       "      <th>2</th>\n",
       "      <td>1</td>\n",
       "      <td>48516</td>\n",
       "      <td>5.0</td>\n",
       "      <td>1204927435</td>\n",
       "    </tr>\n",
       "  </tbody>\n",
       "</table>\n",
       "</div>"
      ],
      "text/plain": [
       "   userId  movieId  rating   timestamp\n",
       "0       1      169     2.5  1204927694\n",
       "1       1     2471     3.0  1204927438\n",
       "2       1    48516     5.0  1204927435"
      ]
     },
     "execution_count": 3,
     "metadata": {},
     "output_type": "execute_result"
    }
   ],
   "source": [
    "#the second dataset\n",
    "rating2 = pd.read_csv(\"data/ratings2.csv\")\n",
    "rating2.head(3)"
   ]
  },
  {
   "cell_type": "code",
   "execution_count": 4,
   "id": "d334a3ba-b524-4b10-9b7f-251694442aac",
   "metadata": {},
   "outputs": [
    {
     "name": "stdout",
     "output_type": "stream",
     "text": [
      "the number of rows in the  firs  data =  100836\n",
      "the number of rows in the second data = 3899999\n"
     ]
    }
   ],
   "source": [
    "#now let's see the size of each dataset\n",
    "print(f\"the number of rows in the  firs  data =  {len(rating1)}\")\n",
    "print(f\"the number of rows in the second data = {len(rating2)}\")"
   ]
  },
  {
   "cell_type": "markdown",
   "id": "0bcdca9a-6ea7-4d24-b7b3-652cbcb0f3e5",
   "metadata": {},
   "source": [
    "**2.importing movies datasets**"
   ]
  },
  {
   "cell_type": "code",
   "execution_count": 5,
   "id": "6642865f-9062-40cb-9c95-3c6f612ba1a1",
   "metadata": {},
   "outputs": [
    {
     "data": {
      "text/html": [
       "<div>\n",
       "<style scoped>\n",
       "    .dataframe tbody tr th:only-of-type {\n",
       "        vertical-align: middle;\n",
       "    }\n",
       "\n",
       "    .dataframe tbody tr th {\n",
       "        vertical-align: top;\n",
       "    }\n",
       "\n",
       "    .dataframe thead th {\n",
       "        text-align: right;\n",
       "    }\n",
       "</style>\n",
       "<table border=\"1\" class=\"dataframe\">\n",
       "  <thead>\n",
       "    <tr style=\"text-align: right;\">\n",
       "      <th></th>\n",
       "      <th>movieId</th>\n",
       "      <th>title</th>\n",
       "      <th>genres</th>\n",
       "    </tr>\n",
       "  </thead>\n",
       "  <tbody>\n",
       "    <tr>\n",
       "      <th>0</th>\n",
       "      <td>1</td>\n",
       "      <td>Toy Story (1995)</td>\n",
       "      <td>Adventure|Animation|Children|Comedy|Fantasy</td>\n",
       "    </tr>\n",
       "    <tr>\n",
       "      <th>1</th>\n",
       "      <td>2</td>\n",
       "      <td>Jumanji (1995)</td>\n",
       "      <td>Adventure|Children|Fantasy</td>\n",
       "    </tr>\n",
       "    <tr>\n",
       "      <th>2</th>\n",
       "      <td>3</td>\n",
       "      <td>Grumpier Old Men (1995)</td>\n",
       "      <td>Comedy|Romance</td>\n",
       "    </tr>\n",
       "  </tbody>\n",
       "</table>\n",
       "</div>"
      ],
      "text/plain": [
       "   movieId                    title  \\\n",
       "0        1         Toy Story (1995)   \n",
       "1        2           Jumanji (1995)   \n",
       "2        3  Grumpier Old Men (1995)   \n",
       "\n",
       "                                        genres  \n",
       "0  Adventure|Animation|Children|Comedy|Fantasy  \n",
       "1                   Adventure|Children|Fantasy  \n",
       "2                               Comedy|Romance  "
      ]
     },
     "execution_count": 5,
     "metadata": {},
     "output_type": "execute_result"
    }
   ],
   "source": [
    "#the first dataset\n",
    "movie1 = pd.read_csv(\"data/movies1.csv\")\n",
    "movie1.head(3)"
   ]
  },
  {
   "cell_type": "code",
   "execution_count": 6,
   "id": "ebec5844-7707-4f66-a759-4d59a1b6195b",
   "metadata": {},
   "outputs": [
    {
     "data": {
      "text/html": [
       "<div>\n",
       "<style scoped>\n",
       "    .dataframe tbody tr th:only-of-type {\n",
       "        vertical-align: middle;\n",
       "    }\n",
       "\n",
       "    .dataframe tbody tr th {\n",
       "        vertical-align: top;\n",
       "    }\n",
       "\n",
       "    .dataframe thead th {\n",
       "        text-align: right;\n",
       "    }\n",
       "</style>\n",
       "<table border=\"1\" class=\"dataframe\">\n",
       "  <thead>\n",
       "    <tr style=\"text-align: right;\">\n",
       "      <th></th>\n",
       "      <th>movieId</th>\n",
       "      <th>title</th>\n",
       "      <th>genres</th>\n",
       "    </tr>\n",
       "  </thead>\n",
       "  <tbody>\n",
       "    <tr>\n",
       "      <th>34205</th>\n",
       "      <td>151703</td>\n",
       "      <td>The Butterfly Circus (2009)</td>\n",
       "      <td>Drama</td>\n",
       "    </tr>\n",
       "    <tr>\n",
       "      <th>34206</th>\n",
       "      <td>151709</td>\n",
       "      <td>Zero (2015)</td>\n",
       "      <td>Drama|Sci-Fi</td>\n",
       "    </tr>\n",
       "    <tr>\n",
       "      <th>34207</th>\n",
       "      <td>151711</td>\n",
       "      <td>The 2000 Year Old Man (1975)</td>\n",
       "      <td>(no genres listed)</td>\n",
       "    </tr>\n",
       "  </tbody>\n",
       "</table>\n",
       "</div>"
      ],
      "text/plain": [
       "       movieId                         title              genres\n",
       "34205   151703   The Butterfly Circus (2009)               Drama\n",
       "34206   151709                   Zero (2015)        Drama|Sci-Fi\n",
       "34207   151711  The 2000 Year Old Man (1975)  (no genres listed)"
      ]
     },
     "execution_count": 6,
     "metadata": {},
     "output_type": "execute_result"
    }
   ],
   "source": [
    "#the second dataset\n",
    "movie2 = pd.read_csv(\"data/movies2.csv\")\n",
    "movie2.tail(3)"
   ]
  },
  {
   "cell_type": "code",
   "execution_count": 7,
   "id": "c5d133d7-17cc-4b74-9f3b-62f153153e1b",
   "metadata": {},
   "outputs": [
    {
     "name": "stdout",
     "output_type": "stream",
     "text": [
      "the number of rows in the  firs  data =  9743\n",
      "the number of rows in the second data = 34208\n"
     ]
    }
   ],
   "source": [
    "#now let's see the size of each dataset\n",
    "print(f\"the number of rows in the  firs  data =  {len(movie1)}\")\n",
    "print(f\"the number of rows in the second data = {len(movie2)}\")"
   ]
  },
  {
   "cell_type": "markdown",
   "id": "fdafaaf6-e32a-4ba6-9679-7d79b5a7fd38",
   "metadata": {},
   "source": [
    "## Cleaning the Movies Dataset\r\n",
    "\r\n",
    "First, let's combine both versions of the movies dataset into a single dataset. After combining, we will remove any duplicates that may result from merging these two datasets.\r\n"
   ]
  },
  {
   "cell_type": "code",
   "execution_count": 8,
   "id": "6361470a-2e64-4439-9f1f-e7414aa73ee6",
   "metadata": {},
   "outputs": [],
   "source": [
    "#merging two datasets and removing duplicates\n",
    "movies = pd.concat([movie1,movie2])\n",
    "movies = movies.drop_duplicates()"
   ]
  },
  {
   "cell_type": "markdown",
   "id": "6327d183-8cd4-4f00-8ddc-483a9ee47f1d",
   "metadata": {},
   "source": [
    "<hr>\n",
    "\n",
    "so now we have removed duplicates with *concidering all the coloums*.\n",
    "\n",
    "Because we merged two different versions of the dataset, there might still be duplicate movies with `different IDs`. \n",
    "\n",
    "Let's identify if we have movies with different IDs.\n"
   ]
  },
  {
   "cell_type": "code",
   "execution_count": 9,
   "id": "efe52243-15cf-4cdb-9d41-3c4c585d499e",
   "metadata": {},
   "outputs": [
    {
     "data": {
      "text/html": [
       "<div>\n",
       "<style scoped>\n",
       "    .dataframe tbody tr th:only-of-type {\n",
       "        vertical-align: middle;\n",
       "    }\n",
       "\n",
       "    .dataframe tbody tr th {\n",
       "        vertical-align: top;\n",
       "    }\n",
       "\n",
       "    .dataframe thead th {\n",
       "        text-align: right;\n",
       "    }\n",
       "</style>\n",
       "<table border=\"1\" class=\"dataframe\">\n",
       "  <thead>\n",
       "    <tr style=\"text-align: right;\">\n",
       "      <th></th>\n",
       "      <th>movieId</th>\n",
       "      <th>title</th>\n",
       "      <th>genres</th>\n",
       "    </tr>\n",
       "  </thead>\n",
       "  <tbody>\n",
       "    <tr>\n",
       "      <th>5601</th>\n",
       "      <td>26958</td>\n",
       "      <td>Emma (1996)</td>\n",
       "      <td>Romance</td>\n",
       "    </tr>\n",
       "    <tr>\n",
       "      <th>6932</th>\n",
       "      <td>64997</td>\n",
       "      <td>War of the Worlds (2005)</td>\n",
       "      <td>Action|Sci-Fi</td>\n",
       "    </tr>\n",
       "    <tr>\n",
       "      <th>9106</th>\n",
       "      <td>144606</td>\n",
       "      <td>Confessions of a Dangerous Mind (2002)</td>\n",
       "      <td>Comedy|Crime|Drama|Romance|Thriller</td>\n",
       "    </tr>\n",
       "    <tr>\n",
       "      <th>9135</th>\n",
       "      <td>147002</td>\n",
       "      <td>Eros (2004)</td>\n",
       "      <td>Drama|Romance</td>\n",
       "    </tr>\n",
       "    <tr>\n",
       "      <th>9468</th>\n",
       "      <td>168358</td>\n",
       "      <td>Saturn 3 (1980)</td>\n",
       "      <td>Sci-Fi|Thriller</td>\n",
       "    </tr>\n",
       "    <tr>\n",
       "      <th>...</th>\n",
       "      <td>...</td>\n",
       "      <td>...</td>\n",
       "      <td>...</td>\n",
       "    </tr>\n",
       "    <tr>\n",
       "      <th>33188</th>\n",
       "      <td>147374</td>\n",
       "      <td>Doctor Who: The Doctor, the Widow and the Ward...</td>\n",
       "      <td>(no genres listed)</td>\n",
       "    </tr>\n",
       "    <tr>\n",
       "      <th>33189</th>\n",
       "      <td>147376</td>\n",
       "      <td>Doctor Who: A Christmas Carol (2010)</td>\n",
       "      <td>(no genres listed)</td>\n",
       "    </tr>\n",
       "    <tr>\n",
       "      <th>33192</th>\n",
       "      <td>147382</td>\n",
       "      <td>Doctor Who: Voyage Of The Damned (2007)</td>\n",
       "      <td>(no genres listed)</td>\n",
       "    </tr>\n",
       "    <tr>\n",
       "      <th>34030</th>\n",
       "      <td>150732</td>\n",
       "      <td>The Reunion (2011)</td>\n",
       "      <td>Comedy</td>\n",
       "    </tr>\n",
       "    <tr>\n",
       "      <th>34054</th>\n",
       "      <td>150856</td>\n",
       "      <td>Making a Murderer (2015)</td>\n",
       "      <td>Documentary</td>\n",
       "    </tr>\n",
       "  </tbody>\n",
       "</table>\n",
       "<p>70 rows × 3 columns</p>\n",
       "</div>"
      ],
      "text/plain": [
       "       movieId                                              title  \\\n",
       "5601     26958                                        Emma (1996)   \n",
       "6932     64997                           War of the Worlds (2005)   \n",
       "9106    144606             Confessions of a Dangerous Mind (2002)   \n",
       "9135    147002                                        Eros (2004)   \n",
       "9468    168358                                    Saturn 3 (1980)   \n",
       "...        ...                                                ...   \n",
       "33188   147374  Doctor Who: The Doctor, the Widow and the Ward...   \n",
       "33189   147376               Doctor Who: A Christmas Carol (2010)   \n",
       "33192   147382            Doctor Who: Voyage Of The Damned (2007)   \n",
       "34030   150732                                 The Reunion (2011)   \n",
       "34054   150856                           Making a Murderer (2015)   \n",
       "\n",
       "                                    genres  \n",
       "5601                               Romance  \n",
       "6932                         Action|Sci-Fi  \n",
       "9106   Comedy|Crime|Drama|Romance|Thriller  \n",
       "9135                         Drama|Romance  \n",
       "9468                       Sci-Fi|Thriller  \n",
       "...                                    ...  \n",
       "33188                   (no genres listed)  \n",
       "33189                   (no genres listed)  \n",
       "33192                   (no genres listed)  \n",
       "34030                               Comedy  \n",
       "34054                          Documentary  \n",
       "\n",
       "[70 rows x 3 columns]"
      ]
     },
     "execution_count": 9,
     "metadata": {},
     "output_type": "execute_result"
    }
   ],
   "source": [
    "x = pd.DataFrame(movies[\"title\"].duplicated())\n",
    "movies[x['title'] == True]"
   ]
  },
  {
   "cell_type": "code",
   "execution_count": 10,
   "id": "a450e142-cfae-45d4-a826-f52ab10f0c2a",
   "metadata": {},
   "outputs": [
    {
     "data": {
      "text/html": [
       "<div>\n",
       "<style scoped>\n",
       "    .dataframe tbody tr th:only-of-type {\n",
       "        vertical-align: middle;\n",
       "    }\n",
       "\n",
       "    .dataframe tbody tr th {\n",
       "        vertical-align: top;\n",
       "    }\n",
       "\n",
       "    .dataframe thead th {\n",
       "        text-align: right;\n",
       "    }\n",
       "</style>\n",
       "<table border=\"1\" class=\"dataframe\">\n",
       "  <thead>\n",
       "    <tr style=\"text-align: right;\">\n",
       "      <th></th>\n",
       "      <th>movieId</th>\n",
       "      <th>title</th>\n",
       "      <th>genres</th>\n",
       "    </tr>\n",
       "  </thead>\n",
       "  <tbody>\n",
       "    <tr>\n",
       "      <th>650</th>\n",
       "      <td>838</td>\n",
       "      <td>Emma (1996)</td>\n",
       "      <td>Comedy|Drama|Romance</td>\n",
       "    </tr>\n",
       "    <tr>\n",
       "      <th>5601</th>\n",
       "      <td>26958</td>\n",
       "      <td>Emma (1996)</td>\n",
       "      <td>Romance</td>\n",
       "    </tr>\n",
       "  </tbody>\n",
       "</table>\n",
       "</div>"
      ],
      "text/plain": [
       "      movieId        title                genres\n",
       "650       838  Emma (1996)  Comedy|Drama|Romance\n",
       "5601    26958  Emma (1996)               Romance"
      ]
     },
     "execution_count": 10,
     "metadata": {},
     "output_type": "execute_result"
    }
   ],
   "source": [
    "movies[movies[\"title\"] == \"Emma (1996)\"]"
   ]
  },
  {
   "cell_type": "markdown",
   "id": "5791586b-ac62-4e4a-8813-6e46530cf057",
   "metadata": {},
   "source": [
    "As you can see, the movie `\"Emma\"` has two different `ID`s. Let's fix this issue by consolidating the entries for this movie.\n"
   ]
  },
  {
   "cell_type": "code",
   "execution_count": 11,
   "id": "f2a8dc70-6b6d-414d-bf43-84ed5750ec74",
   "metadata": {},
   "outputs": [],
   "source": [
    "movies = movies.drop_duplicates(subset=[\"title\"] , keep=\"first\")"
   ]
  },
  {
   "cell_type": "markdown",
   "id": "e12c7384-45cb-4cc4-a3ff-845bcb4e02cd",
   "metadata": {},
   "source": [
    "<hr>\n",
    "\n",
    "Now, let's check if we have any movies with the `same ID` but `different titles or genre` due to concatenating the two datasets.\n"
   ]
  },
  {
   "cell_type": "code",
   "execution_count": 12,
   "id": "64f6daf6-aa78-4e8f-84fe-610682fb7448",
   "metadata": {},
   "outputs": [
    {
     "data": {
      "text/html": [
       "<div>\n",
       "<style scoped>\n",
       "    .dataframe tbody tr th:only-of-type {\n",
       "        vertical-align: middle;\n",
       "    }\n",
       "\n",
       "    .dataframe tbody tr th {\n",
       "        vertical-align: top;\n",
       "    }\n",
       "\n",
       "    .dataframe thead th {\n",
       "        text-align: right;\n",
       "    }\n",
       "</style>\n",
       "<table border=\"1\" class=\"dataframe\">\n",
       "  <thead>\n",
       "    <tr style=\"text-align: right;\">\n",
       "      <th></th>\n",
       "      <th>movieId</th>\n",
       "      <th>title</th>\n",
       "      <th>genres</th>\n",
       "    </tr>\n",
       "  </thead>\n",
       "  <tbody>\n",
       "    <tr>\n",
       "      <th>1128</th>\n",
       "      <td>1151</td>\n",
       "      <td>Faust (1994)</td>\n",
       "      <td>Animation|Comedy|Thriller</td>\n",
       "    </tr>\n",
       "    <tr>\n",
       "      <th>1588</th>\n",
       "      <td>1645</td>\n",
       "      <td>Devil's Advocate, The (1997)</td>\n",
       "      <td>Drama|Mystery|Thriller</td>\n",
       "    </tr>\n",
       "    <tr>\n",
       "      <th>3243</th>\n",
       "      <td>3329</td>\n",
       "      <td>Year My Voice Broke, The (1987)</td>\n",
       "      <td>Drama</td>\n",
       "    </tr>\n",
       "    <tr>\n",
       "      <th>3460</th>\n",
       "      <td>3550</td>\n",
       "      <td>Hunger, The (1983)</td>\n",
       "      <td>Horror</td>\n",
       "    </tr>\n",
       "  </tbody>\n",
       "</table>\n",
       "</div>"
      ],
      "text/plain": [
       "      movieId                            title                     genres\n",
       "1128     1151                     Faust (1994)  Animation|Comedy|Thriller\n",
       "1588     1645     Devil's Advocate, The (1997)     Drama|Mystery|Thriller\n",
       "3243     3329  Year My Voice Broke, The (1987)                      Drama\n",
       "3460     3550               Hunger, The (1983)                     Horror"
      ]
     },
     "execution_count": 12,
     "metadata": {},
     "output_type": "execute_result"
    }
   ],
   "source": [
    "x = pd.DataFrame(movies[\"movieId\"].duplicated()  )\n",
    "movies[x['movieId'] == True].head(4)"
   ]
  },
  {
   "cell_type": "code",
   "execution_count": 13,
   "id": "8ba29af0-fdd1-4b5d-9f94-c9009bee4d3c",
   "metadata": {},
   "outputs": [
    {
     "data": {
      "text/html": [
       "<div>\n",
       "<style scoped>\n",
       "    .dataframe tbody tr th:only-of-type {\n",
       "        vertical-align: middle;\n",
       "    }\n",
       "\n",
       "    .dataframe tbody tr th {\n",
       "        vertical-align: top;\n",
       "    }\n",
       "\n",
       "    .dataframe thead th {\n",
       "        text-align: right;\n",
       "    }\n",
       "</style>\n",
       "<table border=\"1\" class=\"dataframe\">\n",
       "  <thead>\n",
       "    <tr style=\"text-align: right;\">\n",
       "      <th></th>\n",
       "      <th>movieId</th>\n",
       "      <th>title</th>\n",
       "      <th>genres</th>\n",
       "    </tr>\n",
       "  </thead>\n",
       "  <tbody>\n",
       "    <tr>\n",
       "      <th>733</th>\n",
       "      <td>953</td>\n",
       "      <td>It's a Wonderful Life (1946)</td>\n",
       "      <td>Children|Drama|Fantasy|Romance</td>\n",
       "    </tr>\n",
       "  </tbody>\n",
       "</table>\n",
       "</div>"
      ],
      "text/plain": [
       "     movieId                         title                          genres\n",
       "733      953  It's a Wonderful Life (1946)  Children|Drama|Fantasy|Romance"
      ]
     },
     "execution_count": 13,
     "metadata": {},
     "output_type": "execute_result"
    }
   ],
   "source": [
    "movies[movies[\"movieId\"] == 953]"
   ]
  },
  {
   "cell_type": "markdown",
   "id": "a2893f45-768e-4c57-a688-ed075d7e0c3d",
   "metadata": {},
   "source": [
    "The movie `It's a Wonderful Life` is duplicated with different genre descriptions. Additionally, slight name differences in other movies also cause duplicates. it'll also fix these issues to ensure consistency.\r\n"
   ]
  },
  {
   "cell_type": "code",
   "execution_count": 14,
   "id": "5438ad04-0c13-40dd-9434-7d41a1738b10",
   "metadata": {},
   "outputs": [],
   "source": [
    "movies = movies.drop_duplicates(subset=[\"movieId\"] , keep=\"first\")"
   ]
  },
  {
   "cell_type": "markdown",
   "id": "96756f10-8002-4696-b074-7adbd782c158",
   "metadata": {},
   "source": [
    "<hr>\n",
    "\n",
    "Next, we will extract the year from the movie titles and create a new `year` column for each row."
   ]
  },
  {
   "cell_type": "code",
   "execution_count": 15,
   "id": "039fa585-b720-4957-9dc9-c9a9e59d9752",
   "metadata": {},
   "outputs": [],
   "source": [
    "movies['year'] = movies.title.str.extract('(\\(\\d\\d\\d\\d\\))')\n",
    "movies['year'] = movies.year.str.extract('(\\d\\d\\d\\d)')\n",
    "movies['year'] = movies['year'].fillna(0).astype(int)\n",
    "movies['title'] = movies.title.str.replace('(\\(\\d{4}\\))' , ' ' , regex=True)\n",
    "movies['genres'] = movies.genres.str.split('|')"
   ]
  },
  {
   "cell_type": "markdown",
   "id": "da9f9faa-b5e7-4f69-b5c9-c563ef25a966",
   "metadata": {},
   "source": [
    "Also let's remove any extra space befor and after the title name "
   ]
  },
  {
   "cell_type": "code",
   "execution_count": 16,
   "id": "253ee728-5b64-48bc-bff7-7c0240d9bbfd",
   "metadata": {},
   "outputs": [],
   "source": [
    "movies['title'] = movies['title'].str.strip()"
   ]
  },
  {
   "cell_type": "code",
   "execution_count": 17,
   "id": "3ca8edd4-4279-44bf-b13d-2f9f7da75b4b",
   "metadata": {},
   "outputs": [
    {
     "data": {
      "text/plain": [
       "2018"
      ]
     },
     "execution_count": 17,
     "metadata": {},
     "output_type": "execute_result"
    }
   ],
   "source": [
    "#let's see the newest movie that we got is for which year\n",
    "movies.year.max()"
   ]
  },
  {
   "cell_type": "code",
   "execution_count": 18,
   "id": "3995a2e9-849a-4bf4-8dcf-591a033ef7a3",
   "metadata": {},
   "outputs": [
    {
     "name": "stdout",
     "output_type": "stream",
     "text": [
      "the number of movies we managed to add to the movies dataset =  559\n"
     ]
    }
   ],
   "source": [
    "print(f\"the number of movies we managed to add to the movies dataset =  {len(movies) - len(movie2)}\")"
   ]
  },
  {
   "cell_type": "markdown",
   "id": "65feb573-4b4b-4b1b-aa85-98705ee3b7d4",
   "metadata": {},
   "source": [
    "### the genre column\n",
    "\n",
    "\n",
    "Now, let's count the genres in our movies dataset.\r\n"
   ]
  },
  {
   "cell_type": "code",
   "execution_count": 19,
   "id": "dc4933c8-d974-413a-86da-2b91d1c352dc",
   "metadata": {},
   "outputs": [
    {
     "name": "stdout",
     "output_type": "stream",
     "text": [
      "There are 20 genres.\n"
     ]
    }
   ],
   "source": [
    "from collections import Counter\n",
    "\n",
    "genre_frequency = Counter(g for genres in movies['genres'] for g in genres)\n",
    "\n",
    "print(f\"There are {len(genre_frequency)} genres.\")\n"
   ]
  },
  {
   "cell_type": "markdown",
   "id": "2581fa4a-f47b-44ca-9c29-4cdd9e9440da",
   "metadata": {},
   "source": [
    "next, let's find out the number of movies for each genre"
   ]
  },
  {
   "cell_type": "code",
   "execution_count": 20,
   "id": "0eafd8f7-dced-44de-9cc5-3ab1678f5fa7",
   "metadata": {},
   "outputs": [
    {
     "data": {
      "text/html": [
       "<div>\n",
       "<style scoped>\n",
       "    .dataframe tbody tr th:only-of-type {\n",
       "        vertical-align: middle;\n",
       "    }\n",
       "\n",
       "    .dataframe tbody tr th {\n",
       "        vertical-align: top;\n",
       "    }\n",
       "\n",
       "    .dataframe thead th {\n",
       "        text-align: right;\n",
       "    }\n",
       "</style>\n",
       "<table border=\"1\" class=\"dataframe\">\n",
       "  <thead>\n",
       "    <tr style=\"text-align: right;\">\n",
       "      <th></th>\n",
       "      <th>genre</th>\n",
       "      <th>count</th>\n",
       "    </tr>\n",
       "  </thead>\n",
       "  <tbody>\n",
       "    <tr>\n",
       "      <th>6</th>\n",
       "      <td>Drama</td>\n",
       "      <td>15937</td>\n",
       "    </tr>\n",
       "    <tr>\n",
       "      <th>3</th>\n",
       "      <td>Comedy</td>\n",
       "      <td>10332</td>\n",
       "    </tr>\n",
       "    <tr>\n",
       "      <th>9</th>\n",
       "      <td>Thriller</td>\n",
       "      <td>5392</td>\n",
       "    </tr>\n",
       "    <tr>\n",
       "      <th>5</th>\n",
       "      <td>Romance</td>\n",
       "      <td>4909</td>\n",
       "    </tr>\n",
       "    <tr>\n",
       "      <th>7</th>\n",
       "      <td>Action</td>\n",
       "      <td>4573</td>\n",
       "    </tr>\n",
       "  </tbody>\n",
       "</table>\n",
       "</div>"
      ],
      "text/plain": [
       "      genre  count\n",
       "6     Drama  15937\n",
       "3    Comedy  10332\n",
       "9  Thriller   5392\n",
       "5   Romance   4909\n",
       "7    Action   4573"
      ]
     },
     "execution_count": 20,
     "metadata": {},
     "output_type": "execute_result"
    }
   ],
   "source": [
    "genre_count = pd.DataFrame(list(genre_frequency.items()) , columns=[\"genre\" , \"count\"])\n",
    "genre_count = genre_count.sort_values(by=\"count\" , ascending=False )\n",
    "genre_count.head()"
   ]
  },
  {
   "cell_type": "code",
   "execution_count": 21,
   "id": "90ab8c68-9467-4501-bcd9-91e1c7679dd5",
   "metadata": {},
   "outputs": [
    {
     "data": {
      "image/png": "[encoded data removed]",
      "text/plain": [
       "<Figure size 1000x700 with 1 Axes>"
      ]
     },
     "metadata": {},
     "output_type": "display_data"
    }
   ],
   "source": [
    "plt.figure(figsize=(10, 7))\n",
    "sns.barplot(x=\"count\" , y=\"genre\" , data= genre_count)\n",
    "plt.title(\"genre count\")\n",
    "plt.show()"
   ]
  },
  {
   "cell_type": "markdown",
   "id": "292f628b-fd52-4e35-abdf-86d601eaaa19",
   "metadata": {},
   "source": [
    "<hr> \n",
    "\n",
    "<br>\n",
    "\n",
    "Now, let's build a DataFrame called **genre** to store the genres in a more structured way for each `movieId`.\r\n"
   ]
  },
  {
   "cell_type": "code",
   "execution_count": 22,
   "id": "6c8c0857-56de-4c26-864b-0c6b41d5a1a9",
   "metadata": {
    "scrolled": true
   },
   "outputs": [
    {
     "data": {
      "text/html": [
       "<div>\n",
       "<style scoped>\n",
       "    .dataframe tbody tr th:only-of-type {\n",
       "        vertical-align: middle;\n",
       "    }\n",
       "\n",
       "    .dataframe tbody tr th {\n",
       "        vertical-align: top;\n",
       "    }\n",
       "\n",
       "    .dataframe thead th {\n",
       "        text-align: right;\n",
       "    }\n",
       "</style>\n",
       "<table border=\"1\" class=\"dataframe\">\n",
       "  <thead>\n",
       "    <tr style=\"text-align: right;\">\n",
       "      <th></th>\n",
       "      <th>movieId</th>\n",
       "      <th>(no genres listed)</th>\n",
       "      <th>Action</th>\n",
       "      <th>Adventure</th>\n",
       "      <th>Animation</th>\n",
       "      <th>Children</th>\n",
       "      <th>Comedy</th>\n",
       "      <th>Crime</th>\n",
       "      <th>Documentary</th>\n",
       "      <th>Drama</th>\n",
       "      <th>...</th>\n",
       "      <th>Film-Noir</th>\n",
       "      <th>Horror</th>\n",
       "      <th>IMAX</th>\n",
       "      <th>Musical</th>\n",
       "      <th>Mystery</th>\n",
       "      <th>Romance</th>\n",
       "      <th>Sci-Fi</th>\n",
       "      <th>Thriller</th>\n",
       "      <th>War</th>\n",
       "      <th>Western</th>\n",
       "    </tr>\n",
       "  </thead>\n",
       "  <tbody>\n",
       "    <tr>\n",
       "      <th>0</th>\n",
       "      <td>1</td>\n",
       "      <td>0</td>\n",
       "      <td>0</td>\n",
       "      <td>1</td>\n",
       "      <td>1</td>\n",
       "      <td>1</td>\n",
       "      <td>1</td>\n",
       "      <td>0</td>\n",
       "      <td>0</td>\n",
       "      <td>0</td>\n",
       "      <td>...</td>\n",
       "      <td>0</td>\n",
       "      <td>0</td>\n",
       "      <td>0</td>\n",
       "      <td>0</td>\n",
       "      <td>0</td>\n",
       "      <td>0</td>\n",
       "      <td>0</td>\n",
       "      <td>0</td>\n",
       "      <td>0</td>\n",
       "      <td>0</td>\n",
       "    </tr>\n",
       "    <tr>\n",
       "      <th>1</th>\n",
       "      <td>2</td>\n",
       "      <td>0</td>\n",
       "      <td>0</td>\n",
       "      <td>1</td>\n",
       "      <td>0</td>\n",
       "      <td>1</td>\n",
       "      <td>0</td>\n",
       "      <td>0</td>\n",
       "      <td>0</td>\n",
       "      <td>0</td>\n",
       "      <td>...</td>\n",
       "      <td>0</td>\n",
       "      <td>0</td>\n",
       "      <td>0</td>\n",
       "      <td>0</td>\n",
       "      <td>0</td>\n",
       "      <td>0</td>\n",
       "      <td>0</td>\n",
       "      <td>0</td>\n",
       "      <td>0</td>\n",
       "      <td>0</td>\n",
       "    </tr>\n",
       "    <tr>\n",
       "      <th>2</th>\n",
       "      <td>3</td>\n",
       "      <td>0</td>\n",
       "      <td>0</td>\n",
       "      <td>0</td>\n",
       "      <td>0</td>\n",
       "      <td>0</td>\n",
       "      <td>1</td>\n",
       "      <td>0</td>\n",
       "      <td>0</td>\n",
       "      <td>0</td>\n",
       "      <td>...</td>\n",
       "      <td>0</td>\n",
       "      <td>0</td>\n",
       "      <td>0</td>\n",
       "      <td>0</td>\n",
       "      <td>0</td>\n",
       "      <td>1</td>\n",
       "      <td>0</td>\n",
       "      <td>0</td>\n",
       "      <td>0</td>\n",
       "      <td>0</td>\n",
       "    </tr>\n",
       "    <tr>\n",
       "      <th>3</th>\n",
       "      <td>4</td>\n",
       "      <td>0</td>\n",
       "      <td>0</td>\n",
       "      <td>0</td>\n",
       "      <td>0</td>\n",
       "      <td>0</td>\n",
       "      <td>1</td>\n",
       "      <td>0</td>\n",
       "      <td>0</td>\n",
       "      <td>1</td>\n",
       "      <td>...</td>\n",
       "      <td>0</td>\n",
       "      <td>0</td>\n",
       "      <td>0</td>\n",
       "      <td>0</td>\n",
       "      <td>0</td>\n",
       "      <td>1</td>\n",
       "      <td>0</td>\n",
       "      <td>0</td>\n",
       "      <td>0</td>\n",
       "      <td>0</td>\n",
       "    </tr>\n",
       "    <tr>\n",
       "      <th>4</th>\n",
       "      <td>5</td>\n",
       "      <td>0</td>\n",
       "      <td>0</td>\n",
       "      <td>0</td>\n",
       "      <td>0</td>\n",
       "      <td>0</td>\n",
       "      <td>1</td>\n",
       "      <td>0</td>\n",
       "      <td>0</td>\n",
       "      <td>0</td>\n",
       "      <td>...</td>\n",
       "      <td>0</td>\n",
       "      <td>0</td>\n",
       "      <td>0</td>\n",
       "      <td>0</td>\n",
       "      <td>0</td>\n",
       "      <td>0</td>\n",
       "      <td>0</td>\n",
       "      <td>0</td>\n",
       "      <td>0</td>\n",
       "      <td>0</td>\n",
       "    </tr>\n",
       "  </tbody>\n",
       "</table>\n",
       "<p>5 rows × 21 columns</p>\n",
       "</div>"
      ],
      "text/plain": [
       "   movieId  (no genres listed)  Action  Adventure  Animation  Children  \\\n",
       "0        1                   0       0          1          1         1   \n",
       "1        2                   0       0          1          0         1   \n",
       "2        3                   0       0          0          0         0   \n",
       "3        4                   0       0          0          0         0   \n",
       "4        5                   0       0          0          0         0   \n",
       "\n",
       "   Comedy  Crime  Documentary  Drama  ...  Film-Noir  Horror  IMAX  Musical  \\\n",
       "0       1      0            0      0  ...          0       0     0        0   \n",
       "1       0      0            0      0  ...          0       0     0        0   \n",
       "2       1      0            0      0  ...          0       0     0        0   \n",
       "3       1      0            0      1  ...          0       0     0        0   \n",
       "4       1      0            0      0  ...          0       0     0        0   \n",
       "\n",
       "   Mystery  Romance  Sci-Fi  Thriller  War  Western  \n",
       "0        0        0       0         0    0        0  \n",
       "1        0        0       0         0    0        0  \n",
       "2        0        1       0         0    0        0  \n",
       "3        0        1       0         0    0        0  \n",
       "4        0        0       0         0    0        0  \n",
       "\n",
       "[5 rows x 21 columns]"
      ]
     },
     "execution_count": 22,
     "metadata": {},
     "output_type": "execute_result"
    }
   ],
   "source": [
    "from sklearn.preprocessing import MultiLabelBinarizer\n",
    "\n",
    "mul = MultiLabelBinarizer()\n",
    "encoded = mul.fit_transform(movies['genres'])\n",
    "encoded_df = pd.DataFrame(encoded , columns=mul.classes_)\n",
    "genres = pd.merge(movies['movieId'], encoded_df, left_index=True, right_index=True)\n",
    "\n",
    "genres.head()"
   ]
  },
  {
   "cell_type": "markdown",
   "id": "f366ccf1-610d-44f4-8bb2-cd755960ca10",
   "metadata": {},
   "source": [
    "\n",
    "## Cleaning the Ratings Dataset\r\n",
    "\r\n",
    "First, let's combine both versions of the ratings dataset into a single dataset. After merging, we will remove any duplicates that may result.\r\n"
   ]
  },
  {
   "cell_type": "code",
   "execution_count": 23,
   "id": "bbc51bbd-8a7e-4f35-82c1-8318bfdd0d88",
   "metadata": {},
   "outputs": [
    {
     "data": {
      "text/html": [
       "<div>\n",
       "<style scoped>\n",
       "    .dataframe tbody tr th:only-of-type {\n",
       "        vertical-align: middle;\n",
       "    }\n",
       "\n",
       "    .dataframe tbody tr th {\n",
       "        vertical-align: top;\n",
       "    }\n",
       "\n",
       "    .dataframe thead th {\n",
       "        text-align: right;\n",
       "    }\n",
       "</style>\n",
       "<table border=\"1\" class=\"dataframe\">\n",
       "  <thead>\n",
       "    <tr style=\"text-align: right;\">\n",
       "      <th></th>\n",
       "      <th>userId</th>\n",
       "      <th>movieId</th>\n",
       "      <th>rating</th>\n",
       "      <th>timestamp</th>\n",
       "    </tr>\n",
       "  </thead>\n",
       "  <tbody>\n",
       "    <tr>\n",
       "      <th>0</th>\n",
       "      <td>1</td>\n",
       "      <td>1</td>\n",
       "      <td>4.0</td>\n",
       "      <td>964982703</td>\n",
       "    </tr>\n",
       "    <tr>\n",
       "      <th>1</th>\n",
       "      <td>1</td>\n",
       "      <td>3</td>\n",
       "      <td>4.0</td>\n",
       "      <td>964981247</td>\n",
       "    </tr>\n",
       "    <tr>\n",
       "      <th>2</th>\n",
       "      <td>1</td>\n",
       "      <td>6</td>\n",
       "      <td>4.0</td>\n",
       "      <td>964982224</td>\n",
       "    </tr>\n",
       "    <tr>\n",
       "      <th>3</th>\n",
       "      <td>1</td>\n",
       "      <td>47</td>\n",
       "      <td>5.0</td>\n",
       "      <td>964983815</td>\n",
       "    </tr>\n",
       "    <tr>\n",
       "      <th>4</th>\n",
       "      <td>1</td>\n",
       "      <td>50</td>\n",
       "      <td>5.0</td>\n",
       "      <td>964982931</td>\n",
       "    </tr>\n",
       "  </tbody>\n",
       "</table>\n",
       "</div>"
      ],
      "text/plain": [
       "   userId  movieId  rating  timestamp\n",
       "0       1        1     4.0  964982703\n",
       "1       1        3     4.0  964981247\n",
       "2       1        6     4.0  964982224\n",
       "3       1       47     5.0  964983815\n",
       "4       1       50     5.0  964982931"
      ]
     },
     "execution_count": 23,
     "metadata": {},
     "output_type": "execute_result"
    }
   ],
   "source": [
    "ratings = pd.concat([rating1,rating2])\n",
    "ratings = ratings.drop_duplicates()\n",
    "ratings.head()"
   ]
  },
  {
   "cell_type": "markdown",
   "id": "9382877f-a6c8-4b39-9172-c184d77a7b5d",
   "metadata": {},
   "source": [
    "let's check if any user has rated the same movie more than once.\r\n"
   ]
  },
  {
   "cell_type": "code",
   "execution_count": 24,
   "id": "d5048caf-c09e-4643-85ba-ca8c6e34758a",
   "metadata": {},
   "outputs": [
    {
     "data": {
      "text/plain": [
       "5621"
      ]
     },
     "execution_count": 24,
     "metadata": {},
     "output_type": "execute_result"
    }
   ],
   "source": [
    "ratings.duplicated(subset=['userId' ,'movieId']).sum()"
   ]
  },
  {
   "cell_type": "markdown",
   "id": "b1bc73e6-9a9a-4be4-849f-ba94e45d7892",
   "metadata": {},
   "source": [
    "We have identified 5,621 duplicate ratings where a user rated the same movie more than once.\r\n",
    "\r\n",
    "Let's keep only the most recent rating that each user gave to a movie|.\r\n"
   ]
  },
  {
   "cell_type": "code",
   "execution_count": 25,
   "id": "ee8862be-a005-4570-aa53-513b37840b83",
   "metadata": {},
   "outputs": [],
   "source": [
    "ratings = ratings.drop_duplicates(subset=[\"userId\" , \"movieId\"] , keep=\"last\")"
   ]
  },
  {
   "cell_type": "markdown",
   "id": "2e0cf2b1-d06a-47b1-b768-3f5a70ef55c7",
   "metadata": {},
   "source": [
    "<hr>\n",
    "\n",
    "In the real world, it is possible for two people to rate the same movie at the exact same time and with the same rating. While this scenario is rare, it is unusual to remove such duplicates. However, since we have merged two different datasets, the likelihood that these duplicates are from the `same person` with `different IDs` is high.\r\n",
    "\r\n",
    "First, let's check each dataset individually for these duplicates.\r\n"
   ]
  },
  {
   "cell_type": "code",
   "execution_count": 26,
   "id": "ffd1e667-7af1-4da1-be61-2873cf7554de",
   "metadata": {},
   "outputs": [
    {
     "name": "stdout",
     "output_type": "stream",
     "text": [
      "a row with a same moiveId and rating , recorder at a same time in the first  Dataset:  0\n",
      "a row with a same moiveId and rating , recorder at a same time in the second Dataset:  15\n",
      "a row with a same moiveId and rating , recorder at a same time int the combined Dataset :  11969\n"
     ]
    }
   ],
   "source": [
    "print(f\"a row with a same moiveId and rating , recorder at a same time in the first  Dataset:  {rating1.duplicated(subset=['rating','movieId','timestamp']).sum()}\")\n",
    "print(f\"a row with a same moiveId and rating , recorder at a same time in the second Dataset:  {rating2.duplicated(subset=['rating','movieId','timestamp']).sum()}\")\n",
    "print(f\"a row with a same moiveId and rating , recorder at a same time int the combined Dataset :  {ratings.duplicated(subset=['rating','movieId','timestamp']).sum()}\")"
   ]
  },
  {
   "cell_type": "markdown",
   "id": "b91fd9c6-6a58-47e3-b0dd-241e6a3faece",
   "metadata": {},
   "source": [
    "As you can see, we almost never encounter the scenario where two people rate the same movie at the exact same time with the same rating. However, when we merge both datasets, we do see these duplicates.\n",
    "\n",
    "We will consider these duplicates to be from the ***same person who received different IDs*** due to the different datasets."
   ]
  },
  {
   "cell_type": "code",
   "execution_count": 27,
   "id": "65983781-fc6c-4f2d-8276-a6f253753aa3",
   "metadata": {},
   "outputs": [],
   "source": [
    "ratings = ratings.drop_duplicates(subset=['rating','movieId','timestamp'])"
   ]
  },
  {
   "cell_type": "markdown",
   "id": "238a8ade-34fe-4c35-81c5-337230ddd4a8",
   "metadata": {},
   "source": [
    "<hr>\n",
    "\n",
    "<br>  \n",
    "\n",
    "\n",
    "Next, let's check if there are any ratings for a `movieId` that do not exist in our `movies` dataset.\r\n"
   ]
  },
  {
   "cell_type": "code",
   "execution_count": 28,
   "id": "65e52bcf-cee6-4eff-be6c-49826e6b36ff",
   "metadata": {},
   "outputs": [
    {
     "name": "stdout",
     "output_type": "stream",
     "text": [
      "the number of ratings that has an invalid moiveID : 1295\n"
     ]
    }
   ],
   "source": [
    "exist_movieid = ratings[ratings[\"movieId\"].isin(movies[\"movieId\"])]\n",
    "print(f\"the number of ratings that has an invalid moiveID : {len(ratings)-len(exist_movieid)}\")"
   ]
  },
  {
   "cell_type": "code",
   "execution_count": 29,
   "id": "8bb8b423-78b8-4416-b18d-7ebb616f582f",
   "metadata": {},
   "outputs": [],
   "source": [
    "ratings = exist_movieid"
   ]
  },
  {
   "cell_type": "markdown",
   "id": "e1217faa-76cc-4f9a-b7f3-14a246f968df",
   "metadata": {},
   "source": [
    "Finally, let's drop the `timestamp` column, as we no longer need it."
   ]
  },
  {
   "cell_type": "code",
   "execution_count": 30,
   "id": "3aeb6777-e8a8-46cc-ad4e-e7d80bf8edf7",
   "metadata": {},
   "outputs": [
    {
     "data": {
      "text/html": [
       "<div>\n",
       "<style scoped>\n",
       "    .dataframe tbody tr th:only-of-type {\n",
       "        vertical-align: middle;\n",
       "    }\n",
       "\n",
       "    .dataframe tbody tr th {\n",
       "        vertical-align: top;\n",
       "    }\n",
       "\n",
       "    .dataframe thead th {\n",
       "        text-align: right;\n",
       "    }\n",
       "</style>\n",
       "<table border=\"1\" class=\"dataframe\">\n",
       "  <thead>\n",
       "    <tr style=\"text-align: right;\">\n",
       "      <th></th>\n",
       "      <th>userId</th>\n",
       "      <th>movieId</th>\n",
       "      <th>rating</th>\n",
       "    </tr>\n",
       "  </thead>\n",
       "  <tbody>\n",
       "    <tr>\n",
       "      <th>0</th>\n",
       "      <td>1</td>\n",
       "      <td>1</td>\n",
       "      <td>4.0</td>\n",
       "    </tr>\n",
       "    <tr>\n",
       "      <th>1</th>\n",
       "      <td>1</td>\n",
       "      <td>3</td>\n",
       "      <td>4.0</td>\n",
       "    </tr>\n",
       "    <tr>\n",
       "      <th>2</th>\n",
       "      <td>1</td>\n",
       "      <td>6</td>\n",
       "      <td>4.0</td>\n",
       "    </tr>\n",
       "    <tr>\n",
       "      <th>3</th>\n",
       "      <td>1</td>\n",
       "      <td>47</td>\n",
       "      <td>5.0</td>\n",
       "    </tr>\n",
       "    <tr>\n",
       "      <th>4</th>\n",
       "      <td>1</td>\n",
       "      <td>50</td>\n",
       "      <td>5.0</td>\n",
       "    </tr>\n",
       "  </tbody>\n",
       "</table>\n",
       "</div>"
      ],
      "text/plain": [
       "   userId  movieId  rating\n",
       "0       1        1     4.0\n",
       "1       1        3     4.0\n",
       "2       1        6     4.0\n",
       "3       1       47     5.0\n",
       "4       1       50     5.0"
      ]
     },
     "execution_count": 30,
     "metadata": {},
     "output_type": "execute_result"
    }
   ],
   "source": [
    "ratings = ratings.drop([\"timestamp\"] ,axis=1)\n",
    "ratings.head()"
   ]
  },
  {
   "cell_type": "code",
   "execution_count": 31,
   "id": "91ce8cd2-cc82-4fb6-8fef-2db124349211",
   "metadata": {},
   "outputs": [
    {
     "name": "stdout",
     "output_type": "stream",
     "text": [
      "The number of ratings we managed to add to the ratings dataset: =  81951\n"
     ]
    }
   ],
   "source": [
    "print(f\"The number of ratings we managed to add to the ratings dataset: =  {len(ratings) - len(rating2)}\")"
   ]
  },
  {
   "cell_type": "markdown",
   "id": "416fc99b-248b-4956-8162-8994ae951696",
   "metadata": {},
   "source": [
    "# Step 2: Data Analysis\r\n",
    "\r\n",
    "Now, we are going to analyze the data that we have just cleaned.\r\n"
   ]
  },
  {
   "cell_type": "code",
   "execution_count": 32,
   "id": "8bb80e7d-893c-4ca9-8909-3d98dcea5da9",
   "metadata": {},
   "outputs": [
    {
     "name": "stdout",
     "output_type": "stream",
     "text": [
      "the number of ratings = 3981950\n",
      "the number of Movies =    24410\n",
      "the number of users =     42114\n"
     ]
    }
   ],
   "source": [
    "n_ratings =  len(ratings)\n",
    "n_movies  =  len(ratings[\"movieId\"].unique())\n",
    "n_users    =  len(ratings[\"userId\"].unique())\n",
    "\n",
    "print(f\"the number of ratings = {n_ratings}\")\n",
    "print(f\"the number of Movies =    {n_movies}\")\n",
    "print(f\"the number of users =     {n_users}\")"
   ]
  },
  {
   "cell_type": "code",
   "execution_count": 33,
   "id": "e0418a53-5239-4bd2-b829-6e52018fbd5d",
   "metadata": {},
   "outputs": [
    {
     "name": "stdout",
     "output_type": "stream",
     "text": [
      "avrage number of rating per user =  94.55\n",
      "avrage number of rating per user = 163.13\n"
     ]
    }
   ],
   "source": [
    "print(f\"avrage number of rating per user =  {round(n_ratings / n_users , 2 )  }\")\n",
    "print(f\"avrage number of rating per user = {round( n_ratings / n_movies, 2 )  }\")"
   ]
  },
  {
   "cell_type": "markdown",
   "id": "cf3ec56e-1d34-4075-8acb-92f9a3675104",
   "metadata": {},
   "source": [
    "lets see how are ratings destribited"
   ]
  },
  {
   "cell_type": "code",
   "execution_count": 34,
   "id": "7a36455a-75a1-4425-b136-d80e54a228ad",
   "metadata": {},
   "outputs": [
    {
     "data": {
      "image/png": "[encoded data removed]",
      "text/plain": [
       "<Figure size 640x480 with 1 Axes>"
      ]
     },
     "metadata": {},
     "output_type": "display_data"
    }
   ],
   "source": [
    "sns.countplot(x=\"rating\" , data= ratings , palette=\"RdBu\")\n",
    "plt.title(\" distribiotion of ratings \")\n",
    "plt.yscale(\"log\")\n",
    "plt.show()\n"
   ]
  },
  {
   "cell_type": "code",
   "execution_count": 35,
   "id": "b0c79958-0230-42c9-a2bb-3da0b7241b92",
   "metadata": {},
   "outputs": [
    {
     "data": {
      "text/plain": [
       "count    3981950.00\n",
       "mean           3.52\n",
       "std            1.07\n",
       "min            0.50\n",
       "25%            3.00\n",
       "50%            3.50\n",
       "75%            4.00\n",
       "max            5.00\n",
       "Name: rating, dtype: float64"
      ]
     },
     "execution_count": 35,
     "metadata": {},
     "output_type": "execute_result"
    }
   ],
   "source": [
    "round(ratings[\"rating\"].describe(), 2 )"
   ]
  },
  {
   "cell_type": "markdown",
   "id": "22f4c8cf-0afe-455a-9a4d-effc830df937",
   "metadata": {},
   "source": [
    "<hr>\n",
    "\n",
    "lets join both data together on movieId"
   ]
  },
  {
   "cell_type": "code",
   "execution_count": 36,
   "id": "815afa0e-efe0-4cc2-9ccd-17342ee0868e",
   "metadata": {},
   "outputs": [
    {
     "data": {
      "text/html": [
       "<div>\n",
       "<style scoped>\n",
       "    .dataframe tbody tr th:only-of-type {\n",
       "        vertical-align: middle;\n",
       "    }\n",
       "\n",
       "    .dataframe tbody tr th {\n",
       "        vertical-align: top;\n",
       "    }\n",
       "\n",
       "    .dataframe thead th {\n",
       "        text-align: right;\n",
       "    }\n",
       "</style>\n",
       "<table border=\"1\" class=\"dataframe\">\n",
       "  <thead>\n",
       "    <tr style=\"text-align: right;\">\n",
       "      <th></th>\n",
       "      <th>userId</th>\n",
       "      <th>movieId</th>\n",
       "      <th>rating</th>\n",
       "      <th>title</th>\n",
       "      <th>genres</th>\n",
       "      <th>year</th>\n",
       "    </tr>\n",
       "  </thead>\n",
       "  <tbody>\n",
       "    <tr>\n",
       "      <th>0</th>\n",
       "      <td>1</td>\n",
       "      <td>1</td>\n",
       "      <td>4.0</td>\n",
       "      <td>Toy Story</td>\n",
       "      <td>[Adventure, Animation, Children, Comedy, Fantasy]</td>\n",
       "      <td>1995</td>\n",
       "    </tr>\n",
       "    <tr>\n",
       "      <th>1</th>\n",
       "      <td>5</td>\n",
       "      <td>1</td>\n",
       "      <td>4.0</td>\n",
       "      <td>Toy Story</td>\n",
       "      <td>[Adventure, Animation, Children, Comedy, Fantasy]</td>\n",
       "      <td>1995</td>\n",
       "    </tr>\n",
       "    <tr>\n",
       "      <th>2</th>\n",
       "      <td>7</td>\n",
       "      <td>1</td>\n",
       "      <td>4.5</td>\n",
       "      <td>Toy Story</td>\n",
       "      <td>[Adventure, Animation, Children, Comedy, Fantasy]</td>\n",
       "      <td>1995</td>\n",
       "    </tr>\n",
       "    <tr>\n",
       "      <th>3</th>\n",
       "      <td>18</td>\n",
       "      <td>1</td>\n",
       "      <td>3.5</td>\n",
       "      <td>Toy Story</td>\n",
       "      <td>[Adventure, Animation, Children, Comedy, Fantasy]</td>\n",
       "      <td>1995</td>\n",
       "    </tr>\n",
       "    <tr>\n",
       "      <th>4</th>\n",
       "      <td>19</td>\n",
       "      <td>1</td>\n",
       "      <td>4.0</td>\n",
       "      <td>Toy Story</td>\n",
       "      <td>[Adventure, Animation, Children, Comedy, Fantasy]</td>\n",
       "      <td>1995</td>\n",
       "    </tr>\n",
       "  </tbody>\n",
       "</table>\n",
       "</div>"
      ],
      "text/plain": [
       "   userId  movieId  rating      title  \\\n",
       "0       1        1     4.0  Toy Story   \n",
       "1       5        1     4.0  Toy Story   \n",
       "2       7        1     4.5  Toy Story   \n",
       "3      18        1     3.5  Toy Story   \n",
       "4      19        1     4.0  Toy Story   \n",
       "\n",
       "                                              genres  year  \n",
       "0  [Adventure, Animation, Children, Comedy, Fantasy]  1995  \n",
       "1  [Adventure, Animation, Children, Comedy, Fantasy]  1995  \n",
       "2  [Adventure, Animation, Children, Comedy, Fantasy]  1995  \n",
       "3  [Adventure, Animation, Children, Comedy, Fantasy]  1995  \n",
       "4  [Adventure, Animation, Children, Comedy, Fantasy]  1995  "
      ]
     },
     "execution_count": 36,
     "metadata": {},
     "output_type": "execute_result"
    }
   ],
   "source": [
    "movie_ratings= ratings.merge(movies , on=\"movieId\")\n",
    "movie_ratings.head()"
   ]
  },
  {
   "cell_type": "markdown",
   "id": "d5910731-c3fc-4557-9191-28e12f4a470b",
   "metadata": {},
   "source": [
    "let's find the most rated movies in the dataset"
   ]
  },
  {
   "cell_type": "code",
   "execution_count": 37,
   "id": "a09bd21f-ecbf-44d9-9b22-99bd4e89cbb9",
   "metadata": {
    "editable": true,
    "slideshow": {
     "slide_type": ""
    },
    "tags": []
   },
   "outputs": [
    {
     "data": {
      "text/plain": [
       "title\n",
       "Forrest Gump                          14041\n",
       "Pulp Fiction                          13669\n",
       "Shawshank Redemption, The             13423\n",
       "Silence of the Lambs, The             13085\n",
       "Jurassic Park                         12042\n",
       "Star Wars: Episode IV - A New Hope    11565\n",
       "Matrix, The                           11213\n",
       "Braveheart                            10654\n",
       "Toy Story                             10464\n",
       "Schindler's List                      10414\n",
       "Name: count, dtype: int64"
      ]
     },
     "execution_count": 37,
     "metadata": {},
     "output_type": "execute_result"
    }
   ],
   "source": [
    "movie_ratings[\"title\"].value_counts()[0:10]"
   ]
  },
  {
   "cell_type": "markdown",
   "id": "d82925f9-cb12-4f85-834e-3847d8235f6a",
   "metadata": {},
   "source": [
    "let's find the highest rated movies in dataset"
   ]
  },
  {
   "cell_type": "code",
   "execution_count": 38,
   "id": "475c928a-34ad-4b97-a579-0296835a4deb",
   "metadata": {},
   "outputs": [
    {
     "data": {
      "text/plain": [
       "5.0"
      ]
     },
     "execution_count": 38,
     "metadata": {},
     "output_type": "execute_result"
    }
   ],
   "source": [
    "mean_rating = movie_ratings.groupby(\"movieId\")[[\"rating\"]].mean()\n",
    "mean_rating.rating.max()"
   ]
  },
  {
   "cell_type": "markdown",
   "id": "8dcb970c-b5d3-4e45-b014-3483d746fb5a",
   "metadata": {},
   "source": [
    "As you can see, the maximum rating that a movie received is 5.   \n",
    "Now, let's find the movies with this rating.\r\n"
   ]
  },
  {
   "cell_type": "code",
   "execution_count": 39,
   "id": "1befd5da-98e7-4435-87c2-99208790a9f3",
   "metadata": {},
   "outputs": [
    {
     "data": {
      "text/html": [
       "<div>\n",
       "<style scoped>\n",
       "    .dataframe tbody tr th:only-of-type {\n",
       "        vertical-align: middle;\n",
       "    }\n",
       "\n",
       "    .dataframe tbody tr th {\n",
       "        vertical-align: top;\n",
       "    }\n",
       "\n",
       "    .dataframe thead th {\n",
       "        text-align: right;\n",
       "    }\n",
       "</style>\n",
       "<table border=\"1\" class=\"dataframe\">\n",
       "  <thead>\n",
       "    <tr style=\"text-align: right;\">\n",
       "      <th></th>\n",
       "      <th>movieId</th>\n",
       "      <th>title</th>\n",
       "      <th>genres</th>\n",
       "      <th>year</th>\n",
       "    </tr>\n",
       "  </thead>\n",
       "  <tbody>\n",
       "    <tr>\n",
       "      <th>5426</th>\n",
       "      <td>25887</td>\n",
       "      <td>Tales of Manhattan</td>\n",
       "      <td>[Comedy, Drama]</td>\n",
       "      <td>1942</td>\n",
       "    </tr>\n",
       "    <tr>\n",
       "      <th>5633</th>\n",
       "      <td>27320</td>\n",
       "      <td>Nine Lives of Tomas Katz, The</td>\n",
       "      <td>[Comedy, Drama, Fantasy]</td>\n",
       "      <td>2000</td>\n",
       "    </tr>\n",
       "    <tr>\n",
       "      <th>7080</th>\n",
       "      <td>69860</td>\n",
       "      <td>Eichmann</td>\n",
       "      <td>[Drama, War]</td>\n",
       "      <td>2007</td>\n",
       "    </tr>\n",
       "  </tbody>\n",
       "</table>\n",
       "</div>"
      ],
      "text/plain": [
       "      movieId                          title                    genres  year\n",
       "5426    25887             Tales of Manhattan           [Comedy, Drama]  1942\n",
       "5633    27320  Nine Lives of Tomas Katz, The  [Comedy, Drama, Fantasy]  2000\n",
       "7080    69860                       Eichmann              [Drama, War]  2007"
      ]
     },
     "execution_count": 39,
     "metadata": {},
     "output_type": "execute_result"
    }
   ],
   "source": [
    "highest = mean_rating[mean_rating[\"rating\"] == mean_rating.rating.max()]\n",
    "movies[movies[\"movieId\"].isin(highest.index)].head(3)"
   ]
  },
  {
   "cell_type": "markdown",
   "id": "6f4b4817-0637-49ae-8d99-13d3a929f2f4",
   "metadata": {},
   "source": [
    "let's find the lowest rated movies in the dataset"
   ]
  },
  {
   "cell_type": "code",
   "execution_count": 40,
   "id": "aa705c72-d163-487a-9714-99df31726651",
   "metadata": {},
   "outputs": [
    {
     "data": {
      "text/plain": [
       "0.5"
      ]
     },
     "execution_count": 40,
     "metadata": {},
     "output_type": "execute_result"
    }
   ],
   "source": [
    "mean_rating.rating.min()"
   ]
  },
  {
   "cell_type": "code",
   "execution_count": 41,
   "id": "57ed3327-bbfb-4583-979e-b07078007610",
   "metadata": {},
   "outputs": [
    {
     "data": {
      "text/html": [
       "<div>\n",
       "<style scoped>\n",
       "    .dataframe tbody tr th:only-of-type {\n",
       "        vertical-align: middle;\n",
       "    }\n",
       "\n",
       "    .dataframe tbody tr th {\n",
       "        vertical-align: top;\n",
       "    }\n",
       "\n",
       "    .dataframe thead th {\n",
       "        text-align: right;\n",
       "    }\n",
       "</style>\n",
       "<table border=\"1\" class=\"dataframe\">\n",
       "  <thead>\n",
       "    <tr style=\"text-align: right;\">\n",
       "      <th></th>\n",
       "      <th>movieId</th>\n",
       "      <th>title</th>\n",
       "      <th>genres</th>\n",
       "      <th>year</th>\n",
       "    </tr>\n",
       "  </thead>\n",
       "  <tbody>\n",
       "    <tr>\n",
       "      <th>4413</th>\n",
       "      <td>6514</td>\n",
       "      <td>Ring of Terror</td>\n",
       "      <td>[Horror]</td>\n",
       "      <td>1962</td>\n",
       "    </tr>\n",
       "    <tr>\n",
       "      <th>7578</th>\n",
       "      <td>86068</td>\n",
       "      <td>Films to Keep You Awake: The Christmas Tale (P...</td>\n",
       "      <td>[Horror, Thriller]</td>\n",
       "      <td>2005</td>\n",
       "    </tr>\n",
       "    <tr>\n",
       "      <th>8143</th>\n",
       "      <td>102025</td>\n",
       "      <td>Yongary: Monster from the Deep</td>\n",
       "      <td>[Children, Horror, Sci-Fi]</td>\n",
       "      <td>1967</td>\n",
       "    </tr>\n",
       "  </tbody>\n",
       "</table>\n",
       "</div>"
      ],
      "text/plain": [
       "      movieId                                              title  \\\n",
       "4413     6514                                     Ring of Terror   \n",
       "7578    86068  Films to Keep You Awake: The Christmas Tale (P...   \n",
       "8143   102025                     Yongary: Monster from the Deep   \n",
       "\n",
       "                          genres  year  \n",
       "4413                    [Horror]  1962  \n",
       "7578          [Horror, Thriller]  2005  \n",
       "8143  [Children, Horror, Sci-Fi]  1967  "
      ]
     },
     "execution_count": 41,
     "metadata": {},
     "output_type": "execute_result"
    }
   ],
   "source": [
    "lowest = mean_rating[mean_rating[\"rating\"] == mean_rating.rating.min()]\n",
    "movies[movies[\"movieId\"].isin(lowest.index)].head(3)"
   ]
  },
  {
   "cell_type": "markdown",
   "id": "6e57a45c-9a25-4eab-af0a-d447e4921d52",
   "metadata": {},
   "source": [
    "<hr>\n",
    "\n",
    "When finding the mean rating of a movie, one of the most essential components to consider is the number of ratings it has received. For example, if only two users have rated a movie with scores of 5 and 4, it might be unfair to categorize this movie in the same way as a movie that received an average rating of 4.5 from hundreds of ratings.\r\n",
    "\r\n",
    "Let's calculate the average number of ratings for these top-rated movies\n",
    ".\r\n"
   ]
  },
  {
   "cell_type": "code",
   "execution_count": 42,
   "id": "8c176272-0dc2-4238-a2f3-9b7a07cdd9f1",
   "metadata": {},
   "outputs": [
    {
     "data": {
      "text/plain": [
       "1.047486033519553"
      ]
     },
     "execution_count": 42,
     "metadata": {},
     "output_type": "execute_result"
    }
   ],
   "source": [
    "length = pd.Series(len(ratings[ratings[\"movieId\"] == m]) for m in highest.index)\n",
    "length.mean()"
   ]
  },
  {
   "cell_type": "markdown",
   "id": "821614aa-464c-479d-b54c-7b1c98da8eb9",
   "metadata": {},
   "source": [
    "Since most movies are rated only once, we need a solution to address this imbalance. We'll use the Bayesian average to solve this problem.  \n",
    "In simple terms, the Bayesian average measures the average by considering each mean with the ratio of its quantity.\r\n",
    "\r\n",
    "To calculate the Bayesian average, we require the mean of all ratings for a movie and the number of ratings. Let's gather this information.\r\n"
   ]
  },
  {
   "cell_type": "code",
   "execution_count": 43,
   "id": "d8c7ba62-2fa4-465b-9237-3880dc241b39",
   "metadata": {},
   "outputs": [
    {
     "data": {
      "text/html": [
       "<div>\n",
       "<style scoped>\n",
       "    .dataframe tbody tr th:only-of-type {\n",
       "        vertical-align: middle;\n",
       "    }\n",
       "\n",
       "    .dataframe tbody tr th {\n",
       "        vertical-align: top;\n",
       "    }\n",
       "\n",
       "    .dataframe thead th {\n",
       "        text-align: right;\n",
       "    }\n",
       "</style>\n",
       "<table border=\"1\" class=\"dataframe\">\n",
       "  <thead>\n",
       "    <tr style=\"text-align: right;\">\n",
       "      <th></th>\n",
       "      <th>count</th>\n",
       "      <th>mean</th>\n",
       "    </tr>\n",
       "    <tr>\n",
       "      <th>movieId</th>\n",
       "      <th></th>\n",
       "      <th></th>\n",
       "    </tr>\n",
       "  </thead>\n",
       "  <tbody>\n",
       "    <tr>\n",
       "      <th>1</th>\n",
       "      <td>10464</td>\n",
       "      <td>3.886850</td>\n",
       "    </tr>\n",
       "    <tr>\n",
       "      <th>2</th>\n",
       "      <td>4206</td>\n",
       "      <td>3.225036</td>\n",
       "    </tr>\n",
       "    <tr>\n",
       "      <th>3</th>\n",
       "      <td>2676</td>\n",
       "      <td>3.210949</td>\n",
       "    </tr>\n",
       "    <tr>\n",
       "      <th>4</th>\n",
       "      <td>534</td>\n",
       "      <td>2.851124</td>\n",
       "    </tr>\n",
       "    <tr>\n",
       "      <th>5</th>\n",
       "      <td>2674</td>\n",
       "      <td>3.093680</td>\n",
       "    </tr>\n",
       "  </tbody>\n",
       "</table>\n",
       "</div>"
      ],
      "text/plain": [
       "         count      mean\n",
       "movieId                 \n",
       "1        10464  3.886850\n",
       "2         4206  3.225036\n",
       "3         2676  3.210949\n",
       "4          534  2.851124\n",
       "5         2674  3.093680"
      ]
     },
     "execution_count": 43,
     "metadata": {},
     "output_type": "execute_result"
    }
   ],
   "source": [
    "movie_stats = ratings.groupby('movieId')['rating'].agg(['count', 'mean'])\n",
    "movie_stats.head(5)"
   ]
  },
  {
   "cell_type": "markdown",
   "id": "59e50b0e-b886-4b47-ae7c-4bfc9ba5dc0f",
   "metadata": {},
   "source": [
    "this is the formula for bayesin average   \n",
    "\n",
    "![formula](img/formulaa.svg)\n",
    "\n",
    "\n",
    "let's build a function with this fomula "
   ]
  },
  {
   "cell_type": "code",
   "execution_count": 44,
   "id": "a20fff88-c859-4677-9ef3-83c48ee87a85",
   "metadata": {},
   "outputs": [],
   "source": [
    "def bayesian_avg(series):\n",
    "    C = movie_stats[\"count\"].mean()\n",
    "    n = series.count()\n",
    "    r = series.sum()\n",
    "    m = movie_stats['mean'].mean()\n",
    "\n",
    "    numerator = C * m + r\n",
    "    denominator = C + n \n",
    "    return round(numerator / denominator , 3)"
   ]
  },
  {
   "cell_type": "code",
   "execution_count": 45,
   "id": "fee0939e-9c22-4a96-8c4a-6842b2960745",
   "metadata": {},
   "outputs": [],
   "source": [
    "bayesian_avg_ratings = ratings.groupby('movieId')['rating'].agg(bayesian_avg)\n",
    "movie_stats[\"bayesian_avg\"] = bayesian_avg_ratings.values"
   ]
  },
  {
   "cell_type": "code",
   "execution_count": 46,
   "id": "4ad8b526-4b19-47e9-9752-db4c94d14c9c",
   "metadata": {},
   "outputs": [],
   "source": [
    "movie_stats = movies.merge(movie_stats , on=\"movieId\").drop(\"genres\" , axis=1)"
   ]
  },
  {
   "cell_type": "markdown",
   "id": "9af76fdc-b080-4803-8fa4-f9e5cb8baf64",
   "metadata": {},
   "source": [
    "Now that we have calculated the Bayesian average, let's see the true mean of the movies rated 5.\r\n",
    "\n"
   ]
  },
  {
   "cell_type": "code",
   "execution_count": 47,
   "id": "5bc587fa-30a3-49fd-a7fb-3dd13d37ec9f",
   "metadata": {},
   "outputs": [
    {
     "data": {
      "text/html": [
       "<div>\n",
       "<style scoped>\n",
       "    .dataframe tbody tr th:only-of-type {\n",
       "        vertical-align: middle;\n",
       "    }\n",
       "\n",
       "    .dataframe tbody tr th {\n",
       "        vertical-align: top;\n",
       "    }\n",
       "\n",
       "    .dataframe thead th {\n",
       "        text-align: right;\n",
       "    }\n",
       "</style>\n",
       "<table border=\"1\" class=\"dataframe\">\n",
       "  <thead>\n",
       "    <tr style=\"text-align: right;\">\n",
       "      <th></th>\n",
       "      <th>movieId</th>\n",
       "      <th>title</th>\n",
       "      <th>year</th>\n",
       "      <th>count</th>\n",
       "      <th>mean</th>\n",
       "      <th>bayesian_avg</th>\n",
       "    </tr>\n",
       "  </thead>\n",
       "  <tbody>\n",
       "    <tr>\n",
       "      <th>5426</th>\n",
       "      <td>25887</td>\n",
       "      <td>Tales of Manhattan</td>\n",
       "      <td>1942</td>\n",
       "      <td>1</td>\n",
       "      <td>5.0</td>\n",
       "      <td>3.102</td>\n",
       "    </tr>\n",
       "    <tr>\n",
       "      <th>5632</th>\n",
       "      <td>27320</td>\n",
       "      <td>Nine Lives of Tomas Katz, The</td>\n",
       "      <td>2000</td>\n",
       "      <td>1</td>\n",
       "      <td>5.0</td>\n",
       "      <td>3.102</td>\n",
       "    </tr>\n",
       "    <tr>\n",
       "      <th>7078</th>\n",
       "      <td>69860</td>\n",
       "      <td>Eichmann</td>\n",
       "      <td>2007</td>\n",
       "      <td>1</td>\n",
       "      <td>5.0</td>\n",
       "      <td>3.102</td>\n",
       "    </tr>\n",
       "  </tbody>\n",
       "</table>\n",
       "</div>"
      ],
      "text/plain": [
       "      movieId                          title  year  count  mean  bayesian_avg\n",
       "5426    25887             Tales of Manhattan  1942      1   5.0         3.102\n",
       "5632    27320  Nine Lives of Tomas Katz, The  2000      1   5.0         3.102\n",
       "7078    69860                       Eichmann  2007      1   5.0         3.102"
      ]
     },
     "execution_count": 47,
     "metadata": {},
     "output_type": "execute_result"
    }
   ],
   "source": [
    "movie_stats[movie_stats[\"mean\"] == 5].head(3)"
   ]
  },
  {
   "cell_type": "markdown",
   "id": "c641153d-bb6e-4b6c-9aca-6ed0d469c414",
   "metadata": {},
   "source": [
    "now, it's time to see which movie is the best movie based on the bayesian aveg"
   ]
  },
  {
   "cell_type": "code",
   "execution_count": 55,
   "id": "5d8a4982-914e-40e5-960c-420bd78c2f76",
   "metadata": {},
   "outputs": [
    {
     "data": {
      "text/html": [
       "<div>\n",
       "<style scoped>\n",
       "    .dataframe tbody tr th:only-of-type {\n",
       "        vertical-align: middle;\n",
       "    }\n",
       "\n",
       "    .dataframe tbody tr th {\n",
       "        vertical-align: top;\n",
       "    }\n",
       "\n",
       "    .dataframe thead th {\n",
       "        text-align: right;\n",
       "    }\n",
       "</style>\n",
       "<table border=\"1\" class=\"dataframe\">\n",
       "  <thead>\n",
       "    <tr style=\"text-align: right;\">\n",
       "      <th></th>\n",
       "      <th>movieId</th>\n",
       "      <th>title</th>\n",
       "      <th>year</th>\n",
       "      <th>count</th>\n",
       "      <th>mean</th>\n",
       "      <th>bayesian_avg</th>\n",
       "    </tr>\n",
       "  </thead>\n",
       "  <tbody>\n",
       "    <tr>\n",
       "      <th>277</th>\n",
       "      <td>318</td>\n",
       "      <td>Shawshank Redemption, The</td>\n",
       "      <td>1994</td>\n",
       "      <td>13423</td>\n",
       "      <td>4.442003</td>\n",
       "      <td>4.426</td>\n",
       "    </tr>\n",
       "  </tbody>\n",
       "</table>\n",
       "</div>"
      ],
      "text/plain": [
       "     movieId                      title  year  count      mean  bayesian_avg\n",
       "277      318  Shawshank Redemption, The  1994  13423  4.442003         4.426"
      ]
     },
     "execution_count": 55,
     "metadata": {},
     "output_type": "execute_result"
    }
   ],
   "source": [
    "movie_stats[movie_stats[\"bayesian_avg\"] == movie_stats[\"bayesian_avg\"].max()]\n"
   ]
  },
  {
   "cell_type": "markdown",
   "id": "a4fb9d24-be38-44a5-9a03-be44d4895bf2",
   "metadata": {},
   "source": [
    "<img src=\"img/topMovie.jpg\" alt=\"Description\" width=\"200\" height=\"120\">\n",
    "\n",
    "***oo what a great movie*** :)"
   ]
  }
 ],
 "metadata": {
  "kernelspec": {
   "display_name": "Python 3 (ipykernel)",
   "language": "python",
   "name": "python3"
  },
  "language_info": {
   "codemirror_mode": {
    "name": "ipython",
    "version": 3
   },
   "file_extension": ".py",
   "mimetype": "text/x-python",
   "name": "python",
   "nbconvert_exporter": "python",
   "pygments_lexer": "ipython3",
   "version": "3.11.7"
  }
 },
 "nbformat": 4,
 "nbformat_minor": 5
}
