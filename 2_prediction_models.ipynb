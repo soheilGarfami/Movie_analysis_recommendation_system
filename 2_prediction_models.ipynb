{
 "cells": [
  {
   "cell_type": "markdown",
   "id": "d52ec733-6444-47de-9b71-06d5f8f463e8",
   "metadata": {
    "id": "d52ec733-6444-47de-9b71-06d5f8f463e8"
   },
   "source": [
    "## importing the datasetst"
   ]
  },
  {
   "cell_type": "code",
   "execution_count": 1,
   "id": "89dfdff3-59b4-4c20-9551-f451543e549a",
   "metadata": {
    "id": "89dfdff3-59b4-4c20-9551-f451543e549a"
   },
   "outputs": [],
   "source": [
    "import pandas as pd\n",
    "import numpy as np"
   ]
  },
  {
   "cell_type": "markdown",
   "id": "R6j0hlOP8CWg",
   "metadata": {
    "id": "R6j0hlOP8CWg"
   },
   "source": [
    "Let's import the data that we cleaned and prepared in the last notebook."
   ]
  },
  {
   "cell_type": "code",
   "execution_count": 2,
   "id": "52cbda58-d0bf-46d4-8f00-92b93c884e6b",
   "metadata": {
    "id": "52cbda58-d0bf-46d4-8f00-92b93c884e6b"
   },
   "outputs": [],
   "source": [
    "ratings = pd.read_csv(\"data/CleanedData/ratings.csv\")\n",
    "movies = pd.read_csv(\"data/CleanedData/movies.csv\")\n",
    "genres = pd.read_csv(\"data/CleanedData/genres.csv\")\n",
    "movie_stats = pd.read_csv(\"data/CleanedData/movieState.csv\")"
   ]
  },
  {
   "cell_type": "code",
   "execution_count": 3,
   "id": "4a89b566-7eb9-4623-b63d-fb0163518660",
   "metadata": {
    "id": "4a89b566-7eb9-4623-b63d-fb0163518660"
   },
   "outputs": [
    {
     "data": {
      "text/html": [
       "<div>\n",
       "<style scoped>\n",
       "    .dataframe tbody tr th:only-of-type {\n",
       "        vertical-align: middle;\n",
       "    }\n",
       "\n",
       "    .dataframe tbody tr th {\n",
       "        vertical-align: top;\n",
       "    }\n",
       "\n",
       "    .dataframe thead th {\n",
       "        text-align: right;\n",
       "    }\n",
       "</style>\n",
       "<table border=\"1\" class=\"dataframe\">\n",
       "  <thead>\n",
       "    <tr style=\"text-align: right;\">\n",
       "      <th></th>\n",
       "      <th>userId</th>\n",
       "      <th>movieId</th>\n",
       "      <th>rating</th>\n",
       "      <th>title</th>\n",
       "      <th>genres</th>\n",
       "      <th>year</th>\n",
       "    </tr>\n",
       "  </thead>\n",
       "  <tbody>\n",
       "    <tr>\n",
       "      <th>0</th>\n",
       "      <td>1</td>\n",
       "      <td>1</td>\n",
       "      <td>4.0</td>\n",
       "      <td>Toy Story</td>\n",
       "      <td>['Adventure', 'Animation', 'Children', 'Comedy...</td>\n",
       "      <td>1995</td>\n",
       "    </tr>\n",
       "    <tr>\n",
       "      <th>1</th>\n",
       "      <td>5</td>\n",
       "      <td>1</td>\n",
       "      <td>4.0</td>\n",
       "      <td>Toy Story</td>\n",
       "      <td>['Adventure', 'Animation', 'Children', 'Comedy...</td>\n",
       "      <td>1995</td>\n",
       "    </tr>\n",
       "    <tr>\n",
       "      <th>2</th>\n",
       "      <td>7</td>\n",
       "      <td>1</td>\n",
       "      <td>4.5</td>\n",
       "      <td>Toy Story</td>\n",
       "      <td>['Adventure', 'Animation', 'Children', 'Comedy...</td>\n",
       "      <td>1995</td>\n",
       "    </tr>\n",
       "    <tr>\n",
       "      <th>3</th>\n",
       "      <td>18</td>\n",
       "      <td>1</td>\n",
       "      <td>3.5</td>\n",
       "      <td>Toy Story</td>\n",
       "      <td>['Adventure', 'Animation', 'Children', 'Comedy...</td>\n",
       "      <td>1995</td>\n",
       "    </tr>\n",
       "    <tr>\n",
       "      <th>4</th>\n",
       "      <td>19</td>\n",
       "      <td>1</td>\n",
       "      <td>4.0</td>\n",
       "      <td>Toy Story</td>\n",
       "      <td>['Adventure', 'Animation', 'Children', 'Comedy...</td>\n",
       "      <td>1995</td>\n",
       "    </tr>\n",
       "  </tbody>\n",
       "</table>\n",
       "</div>"
      ],
      "text/plain": [
       "   userId  movieId  rating      title  \\\n",
       "0       1        1     4.0  Toy Story   \n",
       "1       5        1     4.0  Toy Story   \n",
       "2       7        1     4.5  Toy Story   \n",
       "3      18        1     3.5  Toy Story   \n",
       "4      19        1     4.0  Toy Story   \n",
       "\n",
       "                                              genres  year  \n",
       "0  ['Adventure', 'Animation', 'Children', 'Comedy...  1995  \n",
       "1  ['Adventure', 'Animation', 'Children', 'Comedy...  1995  \n",
       "2  ['Adventure', 'Animation', 'Children', 'Comedy...  1995  \n",
       "3  ['Adventure', 'Animation', 'Children', 'Comedy...  1995  \n",
       "4  ['Adventure', 'Animation', 'Children', 'Comedy...  1995  "
      ]
     },
     "execution_count": 3,
     "metadata": {},
     "output_type": "execute_result"
    }
   ],
   "source": [
    "movie_ratings= ratings.merge(movies , on=\"movieId\")\n",
    "movie_ratings.head()"
   ]
  },
  {
   "cell_type": "markdown",
   "id": "248e7f71-848f-41d6-8330-4ed3e1a58413",
   "metadata": {
    "id": "248e7f71-848f-41d6-8330-4ed3e1a58413"
   },
   "source": [
    "## analizing the best movie by personal rating\n",
    "\n",
    "I'm going to build my own personal profil and rate some movies"
   ]
  },
  {
   "cell_type": "code",
   "execution_count": 4,
   "id": "cf74a421-9368-4b6b-a3d7-68e98058bbf8",
   "metadata": {
    "colab": {
     "base_uri": "https://localhost:8080/",
     "height": 238
    },
    "id": "cf74a421-9368-4b6b-a3d7-68e98058bbf8",
    "outputId": "8a79ee19-ada6-4642-deaf-0b03d042a587"
   },
   "outputs": [
    {
     "data": {
      "text/html": [
       "<div>\n",
       "<style scoped>\n",
       "    .dataframe tbody tr th:only-of-type {\n",
       "        vertical-align: middle;\n",
       "    }\n",
       "\n",
       "    .dataframe tbody tr th {\n",
       "        vertical-align: top;\n",
       "    }\n",
       "\n",
       "    .dataframe thead th {\n",
       "        text-align: right;\n",
       "    }\n",
       "</style>\n",
       "<table border=\"1\" class=\"dataframe\">\n",
       "  <thead>\n",
       "    <tr style=\"text-align: right;\">\n",
       "      <th></th>\n",
       "      <th>title</th>\n",
       "      <th>rating</th>\n",
       "    </tr>\n",
       "  </thead>\n",
       "  <tbody>\n",
       "    <tr>\n",
       "      <th>0</th>\n",
       "      <td>Shrek</td>\n",
       "      <td>5.0</td>\n",
       "    </tr>\n",
       "    <tr>\n",
       "      <th>1</th>\n",
       "      <td>Toy Story</td>\n",
       "      <td>4.5</td>\n",
       "    </tr>\n",
       "    <tr>\n",
       "      <th>2</th>\n",
       "      <td>Ice Age</td>\n",
       "      <td>5.0</td>\n",
       "    </tr>\n",
       "    <tr>\n",
       "      <th>3</th>\n",
       "      <td>Jumanji</td>\n",
       "      <td>2.0</td>\n",
       "    </tr>\n",
       "    <tr>\n",
       "      <th>4</th>\n",
       "      <td>Dark Knight, The</td>\n",
       "      <td>4.5</td>\n",
       "    </tr>\n",
       "    <tr>\n",
       "      <th>5</th>\n",
       "      <td>Mask, The</td>\n",
       "      <td>4.0</td>\n",
       "    </tr>\n",
       "  </tbody>\n",
       "</table>\n",
       "</div>"
      ],
      "text/plain": [
       "              title  rating\n",
       "0             Shrek     5.0\n",
       "1         Toy Story     4.5\n",
       "2           Ice Age     5.0\n",
       "3           Jumanji     2.0\n",
       "4  Dark Knight, The     4.5\n",
       "5         Mask, The     4.0"
      ]
     },
     "execution_count": 4,
     "metadata": {},
     "output_type": "execute_result"
    }
   ],
   "source": [
    "userInput = [\n",
    "            {'title':'Shrek', 'rating':5},\n",
    "            {'title':'Toy Story', 'rating':4.5},\n",
    "            {'title':'Ice Age' , 'rating':5},\n",
    "            {'title':'Jumanji', 'rating':2},\n",
    "            {'title':\"Dark Knight, The\", 'rating':4.5},\n",
    "            {'title':'Mask, The', 'rating':4}\n",
    "\n",
    "         ]\n",
    "inputMovies = pd.DataFrame(userInput)\n",
    "inputMovies"
   ]
  },
  {
   "cell_type": "markdown",
   "id": "272eb165-780c-4e95-a5b9-f6722b569397",
   "metadata": {
    "id": "272eb165-780c-4e95-a5b9-f6722b569397"
   },
   "source": [
    "extracting the movies that I rated"
   ]
  },
  {
   "cell_type": "code",
   "execution_count": 5,
   "id": "4e8c6acc-c369-42b7-a0af-5a0c2159d28e",
   "metadata": {
    "colab": {
     "base_uri": "https://localhost:8080/",
     "height": 238
    },
    "id": "4e8c6acc-c369-42b7-a0af-5a0c2159d28e",
    "outputId": "fdab3933-650d-4261-9239-58bf6d9f6467"
   },
   "outputs": [
    {
     "data": {
      "text/html": [
       "<div>\n",
       "<style scoped>\n",
       "    .dataframe tbody tr th:only-of-type {\n",
       "        vertical-align: middle;\n",
       "    }\n",
       "\n",
       "    .dataframe tbody tr th {\n",
       "        vertical-align: top;\n",
       "    }\n",
       "\n",
       "    .dataframe thead th {\n",
       "        text-align: right;\n",
       "    }\n",
       "</style>\n",
       "<table border=\"1\" class=\"dataframe\">\n",
       "  <thead>\n",
       "    <tr style=\"text-align: right;\">\n",
       "      <th></th>\n",
       "      <th>movieId</th>\n",
       "      <th>title</th>\n",
       "      <th>year</th>\n",
       "    </tr>\n",
       "  </thead>\n",
       "  <tbody>\n",
       "    <tr>\n",
       "      <th>0</th>\n",
       "      <td>1</td>\n",
       "      <td>Toy Story</td>\n",
       "      <td>1995</td>\n",
       "    </tr>\n",
       "    <tr>\n",
       "      <th>1</th>\n",
       "      <td>2</td>\n",
       "      <td>Jumanji</td>\n",
       "      <td>1995</td>\n",
       "    </tr>\n",
       "    <tr>\n",
       "      <th>325</th>\n",
       "      <td>367</td>\n",
       "      <td>Mask, The</td>\n",
       "      <td>1994</td>\n",
       "    </tr>\n",
       "    <tr>\n",
       "      <th>3194</th>\n",
       "      <td>4306</td>\n",
       "      <td>Shrek</td>\n",
       "      <td>2001</td>\n",
       "    </tr>\n",
       "    <tr>\n",
       "      <th>3745</th>\n",
       "      <td>5218</td>\n",
       "      <td>Ice Age</td>\n",
       "      <td>2002</td>\n",
       "    </tr>\n",
       "    <tr>\n",
       "      <th>6710</th>\n",
       "      <td>58559</td>\n",
       "      <td>Dark Knight, The</td>\n",
       "      <td>2008</td>\n",
       "    </tr>\n",
       "  </tbody>\n",
       "</table>\n",
       "</div>"
      ],
      "text/plain": [
       "      movieId             title  year\n",
       "0           1         Toy Story  1995\n",
       "1           2           Jumanji  1995\n",
       "325       367         Mask, The  1994\n",
       "3194     4306             Shrek  2001\n",
       "3745     5218           Ice Age  2002\n",
       "6710    58559  Dark Knight, The  2008"
      ]
     },
     "execution_count": 5,
     "metadata": {},
     "output_type": "execute_result"
    }
   ],
   "source": [
    "myMovies = movies[movies['title'].isin(inputMovies['title'])].drop(\"genres\" , axis=1)\n",
    "myMovies"
   ]
  },
  {
   "cell_type": "markdown",
   "id": "9601d192-ce9f-41ff-a802-52237583de5d",
   "metadata": {
    "id": "9601d192-ce9f-41ff-a802-52237583de5d"
   },
   "source": [
    "Next, let's build a genre analysis profile based on my ratings."
   ]
  },
  {
   "cell_type": "code",
   "execution_count": 6,
   "id": "2db234f9-32cb-4194-885c-e41d6fee0395",
   "metadata": {
    "colab": {
     "base_uri": "https://localhost:8080/",
     "height": 677
    },
    "id": "2db234f9-32cb-4194-885c-e41d6fee0395",
    "outputId": "90c1cbca-b855-4096-d2f0-b6bd8f872e01"
   },
   "outputs": [
    {
     "data": {
      "text/html": [
       "<div>\n",
       "<style scoped>\n",
       "    .dataframe tbody tr th:only-of-type {\n",
       "        vertical-align: middle;\n",
       "    }\n",
       "\n",
       "    .dataframe tbody tr th {\n",
       "        vertical-align: top;\n",
       "    }\n",
       "\n",
       "    .dataframe thead th {\n",
       "        text-align: right;\n",
       "    }\n",
       "</style>\n",
       "<table border=\"1\" class=\"dataframe\">\n",
       "  <thead>\n",
       "    <tr style=\"text-align: right;\">\n",
       "      <th></th>\n",
       "      <th>waight</th>\n",
       "    </tr>\n",
       "  </thead>\n",
       "  <tbody>\n",
       "    <tr>\n",
       "      <th>(no genres listed)</th>\n",
       "      <td>0.0</td>\n",
       "    </tr>\n",
       "    <tr>\n",
       "      <th>Action</th>\n",
       "      <td>9.0</td>\n",
       "    </tr>\n",
       "    <tr>\n",
       "      <th>Adventure</th>\n",
       "      <td>16.0</td>\n",
       "    </tr>\n",
       "    <tr>\n",
       "      <th>Animation</th>\n",
       "      <td>11.5</td>\n",
       "    </tr>\n",
       "    <tr>\n",
       "      <th>Children</th>\n",
       "      <td>16.0</td>\n",
       "    </tr>\n",
       "    <tr>\n",
       "      <th>Comedy</th>\n",
       "      <td>16.5</td>\n",
       "    </tr>\n",
       "    <tr>\n",
       "      <th>Crime</th>\n",
       "      <td>5.0</td>\n",
       "    </tr>\n",
       "    <tr>\n",
       "      <th>Documentary</th>\n",
       "      <td>0.0</td>\n",
       "    </tr>\n",
       "    <tr>\n",
       "      <th>Drama</th>\n",
       "      <td>0.0</td>\n",
       "    </tr>\n",
       "    <tr>\n",
       "      <th>Fantasy</th>\n",
       "      <td>16.5</td>\n",
       "    </tr>\n",
       "    <tr>\n",
       "      <th>Film-Noir</th>\n",
       "      <td>0.0</td>\n",
       "    </tr>\n",
       "    <tr>\n",
       "      <th>Horror</th>\n",
       "      <td>0.0</td>\n",
       "    </tr>\n",
       "    <tr>\n",
       "      <th>IMAX</th>\n",
       "      <td>0.0</td>\n",
       "    </tr>\n",
       "    <tr>\n",
       "      <th>Musical</th>\n",
       "      <td>0.0</td>\n",
       "    </tr>\n",
       "    <tr>\n",
       "      <th>Mystery</th>\n",
       "      <td>0.0</td>\n",
       "    </tr>\n",
       "    <tr>\n",
       "      <th>Romance</th>\n",
       "      <td>2.0</td>\n",
       "    </tr>\n",
       "    <tr>\n",
       "      <th>Sci-Fi</th>\n",
       "      <td>0.0</td>\n",
       "    </tr>\n",
       "    <tr>\n",
       "      <th>Thriller</th>\n",
       "      <td>0.0</td>\n",
       "    </tr>\n",
       "    <tr>\n",
       "      <th>War</th>\n",
       "      <td>0.0</td>\n",
       "    </tr>\n",
       "    <tr>\n",
       "      <th>Western</th>\n",
       "      <td>0.0</td>\n",
       "    </tr>\n",
       "  </tbody>\n",
       "</table>\n",
       "</div>"
      ],
      "text/plain": [
       "                    waight\n",
       "(no genres listed)     0.0\n",
       "Action                 9.0\n",
       "Adventure             16.0\n",
       "Animation             11.5\n",
       "Children              16.0\n",
       "Comedy                16.5\n",
       "Crime                  5.0\n",
       "Documentary            0.0\n",
       "Drama                  0.0\n",
       "Fantasy               16.5\n",
       "Film-Noir              0.0\n",
       "Horror                 0.0\n",
       "IMAX                   0.0\n",
       "Musical                0.0\n",
       "Mystery                0.0\n",
       "Romance                2.0\n",
       "Sci-Fi                 0.0\n",
       "Thriller               0.0\n",
       "War                    0.0\n",
       "Western                0.0"
      ]
     },
     "execution_count": 6,
     "metadata": {},
     "output_type": "execute_result"
    }
   ],
   "source": [
    "userMovies = genres[genres['movieId'].isin(myMovies['movieId'])].reset_index(drop=True)\n",
    "userProfile = userMovies.transpose().dot(inputMovies['rating'])\n",
    "#The user profile\n",
    "pd.DataFrame(userProfile , columns=[\"waight\"] ).drop(\"movieId\" , axis=0)"
   ]
  },
  {
   "cell_type": "markdown",
   "id": "a068b5ef-4eb4-4742-87bb-4f1b60bf2bff",
   "metadata": {
    "id": "a068b5ef-4eb4-4742-87bb-4f1b60bf2bff"
   },
   "source": [
    "Let's see if we can find some users who have similar tastes to mine.  \n",
    "First, we'll examine the movies each user has rated or watched.\n"
   ]
  },
  {
   "cell_type": "code",
   "execution_count": 7,
   "id": "b5735fac-393d-44bc-8f6d-9691a56f62dc",
   "metadata": {
    "colab": {
     "base_uri": "https://localhost:8080/",
     "height": 112
    },
    "id": "b5735fac-393d-44bc-8f6d-9691a56f62dc",
    "outputId": "a2af377a-628c-4c45-d998-dd710a92d992"
   },
   "outputs": [
    {
     "data": {
      "text/html": [
       "<div>\n",
       "<style scoped>\n",
       "    .dataframe tbody tr th:only-of-type {\n",
       "        vertical-align: middle;\n",
       "    }\n",
       "\n",
       "    .dataframe tbody tr th {\n",
       "        vertical-align: top;\n",
       "    }\n",
       "\n",
       "    .dataframe thead th {\n",
       "        text-align: right;\n",
       "    }\n",
       "</style>\n",
       "<table border=\"1\" class=\"dataframe\">\n",
       "  <thead>\n",
       "    <tr style=\"text-align: right;\">\n",
       "      <th></th>\n",
       "      <th>userId</th>\n",
       "      <th>movieId</th>\n",
       "    </tr>\n",
       "  </thead>\n",
       "  <tbody>\n",
       "    <tr>\n",
       "      <th>0</th>\n",
       "      <td>1</td>\n",
       "      <td>[1, 3, 6, 47, 50, 70, 101, 110, 151, 157, 163,...</td>\n",
       "    </tr>\n",
       "    <tr>\n",
       "      <th>1</th>\n",
       "      <td>2</td>\n",
       "      <td>[318, 333, 1704, 3578, 6874, 8798, 46970, 4851...</td>\n",
       "    </tr>\n",
       "  </tbody>\n",
       "</table>\n",
       "</div>"
      ],
      "text/plain": [
       "   userId                                            movieId\n",
       "0       1  [1, 3, 6, 47, 50, 70, 101, 110, 151, 157, 163,...\n",
       "1       2  [318, 333, 1704, 3578, 6874, 8798, 46970, 4851..."
      ]
     },
     "execution_count": 7,
     "metadata": {},
     "output_type": "execute_result"
    }
   ],
   "source": [
    "userAllMovies = ratings.groupby(\"userId\")[\"movieId\"].apply(list)\n",
    "userAllMovies = pd.DataFrame(userAllMovies)\n",
    "userAllMovies.reset_index(inplace=True)\n",
    "userAllMovies.head(2)"
   ]
  },
  {
   "cell_type": "markdown",
   "id": "0c4a99ee-8b40-4fc5-bd25-f0e974db345f",
   "metadata": {
    "id": "0c4a99ee-8b40-4fc5-bd25-f0e974db345f"
   },
   "source": [
    "Perfect! Now, let's extract the similarity (common movies that they and I watched) and add it to a column.\n"
   ]
  },
  {
   "cell_type": "code",
   "execution_count": 8,
   "id": "c783cfd7-0d74-4ee2-a7ff-47e16fa3b5be",
   "metadata": {
    "colab": {
     "base_uri": "https://localhost:8080/",
     "height": 206
    },
    "id": "c783cfd7-0d74-4ee2-a7ff-47e16fa3b5be",
    "outputId": "4ecfe117-2b12-4e2e-d91a-6d5f04d5b23a"
   },
   "outputs": [
    {
     "data": {
      "text/html": [
       "<div>\n",
       "<style scoped>\n",
       "    .dataframe tbody tr th:only-of-type {\n",
       "        vertical-align: middle;\n",
       "    }\n",
       "\n",
       "    .dataframe tbody tr th {\n",
       "        vertical-align: top;\n",
       "    }\n",
       "\n",
       "    .dataframe thead th {\n",
       "        text-align: right;\n",
       "    }\n",
       "</style>\n",
       "<table border=\"1\" class=\"dataframe\">\n",
       "  <thead>\n",
       "    <tr style=\"text-align: right;\">\n",
       "      <th></th>\n",
       "      <th>userId</th>\n",
       "      <th>movieId</th>\n",
       "      <th>semilarity</th>\n",
       "    </tr>\n",
       "  </thead>\n",
       "  <tbody>\n",
       "    <tr>\n",
       "      <th>0</th>\n",
       "      <td>1</td>\n",
       "      <td>[1, 3, 6, 47, 50, 70, 101, 110, 151, 157, 163,...</td>\n",
       "      <td>2</td>\n",
       "    </tr>\n",
       "    <tr>\n",
       "      <th>1</th>\n",
       "      <td>2</td>\n",
       "      <td>[318, 333, 1704, 3578, 6874, 8798, 46970, 4851...</td>\n",
       "      <td>1</td>\n",
       "    </tr>\n",
       "    <tr>\n",
       "      <th>2</th>\n",
       "      <td>3</td>\n",
       "      <td>[31, 527, 647, 688, 720, 849, 914, 1093, 1124,...</td>\n",
       "      <td>0</td>\n",
       "    </tr>\n",
       "    <tr>\n",
       "      <th>3</th>\n",
       "      <td>4</td>\n",
       "      <td>[21, 32, 52, 58, 106, 125, 126, 162, 171, 176,...</td>\n",
       "      <td>1</td>\n",
       "    </tr>\n",
       "    <tr>\n",
       "      <th>4</th>\n",
       "      <td>5</td>\n",
       "      <td>[1, 21, 34, 36, 39, 50, 58, 110, 150, 153, 232...</td>\n",
       "      <td>3</td>\n",
       "    </tr>\n",
       "  </tbody>\n",
       "</table>\n",
       "</div>"
      ],
      "text/plain": [
       "   userId                                            movieId  semilarity\n",
       "0       1  [1, 3, 6, 47, 50, 70, 101, 110, 151, 157, 163,...           2\n",
       "1       2  [318, 333, 1704, 3578, 6874, 8798, 46970, 4851...           1\n",
       "2       3  [31, 527, 647, 688, 720, 849, 914, 1093, 1124,...           0\n",
       "3       4  [21, 32, 52, 58, 106, 125, 126, 162, 171, 176,...           1\n",
       "4       5  [1, 21, 34, 36, 39, 50, 58, 110, 150, 153, 232...           3"
      ]
     },
     "execution_count": 8,
     "metadata": {},
     "output_type": "execute_result"
    }
   ],
   "source": [
    "userAllMovies[\"semilarity\"] = [len(set(myMovies.movieId).intersection(set(g))) for g in userAllMovies[\"movieId\"]]\n",
    "userAllMovies.head()"
   ]
  },
  {
   "cell_type": "code",
   "execution_count": 9,
   "id": "215851f7-330c-4e8e-b464-f3a16bb706dd",
   "metadata": {
    "colab": {
     "base_uri": "https://localhost:8080/",
     "height": 206
    },
    "id": "215851f7-330c-4e8e-b464-f3a16bb706dd",
    "outputId": "055d67f6-b801-47cb-c908-0f5cf5df5cd6"
   },
   "outputs": [
    {
     "data": {
      "text/html": [
       "<div>\n",
       "<style scoped>\n",
       "    .dataframe tbody tr th:only-of-type {\n",
       "        vertical-align: middle;\n",
       "    }\n",
       "\n",
       "    .dataframe tbody tr th {\n",
       "        vertical-align: top;\n",
       "    }\n",
       "\n",
       "    .dataframe thead th {\n",
       "        text-align: right;\n",
       "    }\n",
       "</style>\n",
       "<table border=\"1\" class=\"dataframe\">\n",
       "  <thead>\n",
       "    <tr style=\"text-align: right;\">\n",
       "      <th></th>\n",
       "      <th>userId</th>\n",
       "      <th>movieId</th>\n",
       "      <th>semilarity</th>\n",
       "    </tr>\n",
       "  </thead>\n",
       "  <tbody>\n",
       "    <tr>\n",
       "      <th>17</th>\n",
       "      <td>18</td>\n",
       "      <td>[1, 2, 6, 16, 34, 36, 50, 70, 104, 110, 111, 1...</td>\n",
       "      <td>6</td>\n",
       "    </tr>\n",
       "    <tr>\n",
       "      <th>18</th>\n",
       "      <td>19</td>\n",
       "      <td>[1, 2, 3, 7, 10, 12, 13, 15, 19, 32, 34, 44, 4...</td>\n",
       "      <td>6</td>\n",
       "    </tr>\n",
       "    <tr>\n",
       "      <th>20</th>\n",
       "      <td>21</td>\n",
       "      <td>[1, 2, 10, 19, 38, 44, 48, 145, 165, 170, 260,...</td>\n",
       "      <td>6</td>\n",
       "    </tr>\n",
       "    <tr>\n",
       "      <th>67</th>\n",
       "      <td>68</td>\n",
       "      <td>[1, 2, 3, 5, 6, 7, 10, 11, 16, 17, 18, 19, 25,...</td>\n",
       "      <td>6</td>\n",
       "    </tr>\n",
       "    <tr>\n",
       "      <th>102</th>\n",
       "      <td>103</td>\n",
       "      <td>[1, 2, 5, 16, 18, 19, 34, 36, 48, 50, 60, 70, ...</td>\n",
       "      <td>6</td>\n",
       "    </tr>\n",
       "  </tbody>\n",
       "</table>\n",
       "</div>"
      ],
      "text/plain": [
       "     userId                                            movieId  semilarity\n",
       "17       18  [1, 2, 6, 16, 34, 36, 50, 70, 104, 110, 111, 1...           6\n",
       "18       19  [1, 2, 3, 7, 10, 12, 13, 15, 19, 32, 34, 44, 4...           6\n",
       "20       21  [1, 2, 10, 19, 38, 44, 48, 145, 165, 170, 260,...           6\n",
       "67       68  [1, 2, 3, 5, 6, 7, 10, 11, 16, 17, 18, 19, 25,...           6\n",
       "102     103  [1, 2, 5, 16, 18, 19, 34, 36, 48, 50, 60, 70, ...           6"
      ]
     },
     "execution_count": 9,
     "metadata": {},
     "output_type": "execute_result"
    }
   ],
   "source": [
    "#people who are closes to me\n",
    "userAllMovies[userAllMovies[\"semilarity\"] == userAllMovies[\"semilarity\"].max()].head(5)"
   ]
  },
  {
   "cell_type": "markdown",
   "id": "3a15e083-c657-4ef6-a125-e7a8154da91c",
   "metadata": {
    "id": "3a15e083-c657-4ef6-a125-e7a8154da91c"
   },
   "source": [
    "## Correlation"
   ]
  },
  {
   "cell_type": "markdown",
   "id": "9gWbx0Sk9UjR",
   "metadata": {
    "id": "9gWbx0Sk9UjR"
   },
   "source": [
    "Now, we want to extract the correlation between the movies based on their ratings.\n",
    "\n",
    "<hr>\n",
    "\n",
    "First, to extract the correlations, we need to create a pivot table based on user ratings and movies.\n",
    "\n"
   ]
  },
  {
   "cell_type": "code",
   "execution_count": 10,
   "id": "168e2b15-bcfd-451f-baef-5c64f87f3a98",
   "metadata": {
    "colab": {
     "base_uri": "https://localhost:8080/",
     "height": 336
    },
    "id": "168e2b15-bcfd-451f-baef-5c64f87f3a98",
    "outputId": "6c2c009f-b740-4f04-8df1-25e386f9b6ee"
   },
   "outputs": [
    {
     "data": {
      "text/html": [
       "<div>\n",
       "<style scoped>\n",
       "    .dataframe tbody tr th:only-of-type {\n",
       "        vertical-align: middle;\n",
       "    }\n",
       "\n",
       "    .dataframe tbody tr th {\n",
       "        vertical-align: top;\n",
       "    }\n",
       "\n",
       "    .dataframe thead th {\n",
       "        text-align: right;\n",
       "    }\n",
       "</style>\n",
       "<table border=\"1\" class=\"dataframe\">\n",
       "  <thead>\n",
       "    <tr style=\"text-align: right;\">\n",
       "      <th>title</th>\n",
       "      <th>\"Great Performances\" Cats</th>\n",
       "      <th>#1 Cheerleader Camp</th>\n",
       "      <th>$ (Dollars)</th>\n",
       "      <th>$5 a Day</th>\n",
       "      <th>$9.99</th>\n",
       "      <th>$ellebrity (Sellebrity)</th>\n",
       "      <th>'71</th>\n",
       "      <th>'Hellboy': The Seeds of Creation</th>\n",
       "      <th>'Neath the Arizona Skies</th>\n",
       "      <th>'R Xmas</th>\n",
       "      <th>...</th>\n",
       "      <th>xXx</th>\n",
       "      <th>xXx: State of the Union</th>\n",
       "      <th>¡Three Amigos!</th>\n",
       "      <th>À l'aventure</th>\n",
       "      <th>À nos amours</th>\n",
       "      <th>À nous la liberté (Freedom for Us)</th>\n",
       "      <th>À propos de Nice</th>\n",
       "      <th>Ó Paí, Ó</th>\n",
       "      <th>أهواك</th>\n",
       "      <th>貞子3D</th>\n",
       "    </tr>\n",
       "    <tr>\n",
       "      <th>userId</th>\n",
       "      <th></th>\n",
       "      <th></th>\n",
       "      <th></th>\n",
       "      <th></th>\n",
       "      <th></th>\n",
       "      <th></th>\n",
       "      <th></th>\n",
       "      <th></th>\n",
       "      <th></th>\n",
       "      <th></th>\n",
       "      <th></th>\n",
       "      <th></th>\n",
       "      <th></th>\n",
       "      <th></th>\n",
       "      <th></th>\n",
       "      <th></th>\n",
       "      <th></th>\n",
       "      <th></th>\n",
       "      <th></th>\n",
       "      <th></th>\n",
       "      <th></th>\n",
       "    </tr>\n",
       "  </thead>\n",
       "  <tbody>\n",
       "    <tr>\n",
       "      <th>1</th>\n",
       "      <td>NaN</td>\n",
       "      <td>NaN</td>\n",
       "      <td>NaN</td>\n",
       "      <td>NaN</td>\n",
       "      <td>NaN</td>\n",
       "      <td>NaN</td>\n",
       "      <td>NaN</td>\n",
       "      <td>NaN</td>\n",
       "      <td>NaN</td>\n",
       "      <td>NaN</td>\n",
       "      <td>...</td>\n",
       "      <td>NaN</td>\n",
       "      <td>NaN</td>\n",
       "      <td>4.0</td>\n",
       "      <td>NaN</td>\n",
       "      <td>NaN</td>\n",
       "      <td>NaN</td>\n",
       "      <td>NaN</td>\n",
       "      <td>NaN</td>\n",
       "      <td>NaN</td>\n",
       "      <td>NaN</td>\n",
       "    </tr>\n",
       "    <tr>\n",
       "      <th>2</th>\n",
       "      <td>NaN</td>\n",
       "      <td>NaN</td>\n",
       "      <td>NaN</td>\n",
       "      <td>NaN</td>\n",
       "      <td>NaN</td>\n",
       "      <td>NaN</td>\n",
       "      <td>NaN</td>\n",
       "      <td>NaN</td>\n",
       "      <td>NaN</td>\n",
       "      <td>NaN</td>\n",
       "      <td>...</td>\n",
       "      <td>NaN</td>\n",
       "      <td>NaN</td>\n",
       "      <td>NaN</td>\n",
       "      <td>NaN</td>\n",
       "      <td>NaN</td>\n",
       "      <td>NaN</td>\n",
       "      <td>NaN</td>\n",
       "      <td>NaN</td>\n",
       "      <td>NaN</td>\n",
       "      <td>NaN</td>\n",
       "    </tr>\n",
       "    <tr>\n",
       "      <th>3</th>\n",
       "      <td>NaN</td>\n",
       "      <td>NaN</td>\n",
       "      <td>NaN</td>\n",
       "      <td>NaN</td>\n",
       "      <td>NaN</td>\n",
       "      <td>NaN</td>\n",
       "      <td>NaN</td>\n",
       "      <td>NaN</td>\n",
       "      <td>NaN</td>\n",
       "      <td>NaN</td>\n",
       "      <td>...</td>\n",
       "      <td>NaN</td>\n",
       "      <td>NaN</td>\n",
       "      <td>NaN</td>\n",
       "      <td>NaN</td>\n",
       "      <td>NaN</td>\n",
       "      <td>NaN</td>\n",
       "      <td>NaN</td>\n",
       "      <td>NaN</td>\n",
       "      <td>NaN</td>\n",
       "      <td>NaN</td>\n",
       "    </tr>\n",
       "    <tr>\n",
       "      <th>4</th>\n",
       "      <td>NaN</td>\n",
       "      <td>NaN</td>\n",
       "      <td>NaN</td>\n",
       "      <td>NaN</td>\n",
       "      <td>NaN</td>\n",
       "      <td>NaN</td>\n",
       "      <td>NaN</td>\n",
       "      <td>NaN</td>\n",
       "      <td>NaN</td>\n",
       "      <td>NaN</td>\n",
       "      <td>...</td>\n",
       "      <td>NaN</td>\n",
       "      <td>NaN</td>\n",
       "      <td>NaN</td>\n",
       "      <td>NaN</td>\n",
       "      <td>NaN</td>\n",
       "      <td>NaN</td>\n",
       "      <td>NaN</td>\n",
       "      <td>NaN</td>\n",
       "      <td>NaN</td>\n",
       "      <td>NaN</td>\n",
       "    </tr>\n",
       "    <tr>\n",
       "      <th>5</th>\n",
       "      <td>NaN</td>\n",
       "      <td>NaN</td>\n",
       "      <td>NaN</td>\n",
       "      <td>NaN</td>\n",
       "      <td>NaN</td>\n",
       "      <td>NaN</td>\n",
       "      <td>NaN</td>\n",
       "      <td>NaN</td>\n",
       "      <td>NaN</td>\n",
       "      <td>NaN</td>\n",
       "      <td>...</td>\n",
       "      <td>NaN</td>\n",
       "      <td>NaN</td>\n",
       "      <td>NaN</td>\n",
       "      <td>NaN</td>\n",
       "      <td>NaN</td>\n",
       "      <td>NaN</td>\n",
       "      <td>NaN</td>\n",
       "      <td>NaN</td>\n",
       "      <td>NaN</td>\n",
       "      <td>NaN</td>\n",
       "    </tr>\n",
       "  </tbody>\n",
       "</table>\n",
       "<p>5 rows × 23459 columns</p>\n",
       "</div>"
      ],
      "text/plain": [
       "title   \"Great Performances\" Cats  #1 Cheerleader Camp  $ (Dollars)  $5 a Day  \\\n",
       "userId                                                                          \n",
       "1                             NaN                  NaN          NaN       NaN   \n",
       "2                             NaN                  NaN          NaN       NaN   \n",
       "3                             NaN                  NaN          NaN       NaN   \n",
       "4                             NaN                  NaN          NaN       NaN   \n",
       "5                             NaN                  NaN          NaN       NaN   \n",
       "\n",
       "title   $9.99  $ellebrity (Sellebrity)  '71  'Hellboy': The Seeds of Creation  \\\n",
       "userId                                                                          \n",
       "1         NaN                      NaN  NaN                               NaN   \n",
       "2         NaN                      NaN  NaN                               NaN   \n",
       "3         NaN                      NaN  NaN                               NaN   \n",
       "4         NaN                      NaN  NaN                               NaN   \n",
       "5         NaN                      NaN  NaN                               NaN   \n",
       "\n",
       "title   'Neath the Arizona Skies  'R Xmas  ...  xXx  xXx: State of the Union  \\\n",
       "userId                                     ...                                 \n",
       "1                            NaN      NaN  ...  NaN                      NaN   \n",
       "2                            NaN      NaN  ...  NaN                      NaN   \n",
       "3                            NaN      NaN  ...  NaN                      NaN   \n",
       "4                            NaN      NaN  ...  NaN                      NaN   \n",
       "5                            NaN      NaN  ...  NaN                      NaN   \n",
       "\n",
       "title   ¡Three Amigos!  À l'aventure  À nos amours  \\\n",
       "userId                                               \n",
       "1                  4.0           NaN           NaN   \n",
       "2                  NaN           NaN           NaN   \n",
       "3                  NaN           NaN           NaN   \n",
       "4                  NaN           NaN           NaN   \n",
       "5                  NaN           NaN           NaN   \n",
       "\n",
       "title   À nous la liberté (Freedom for Us)  À propos de Nice  Ó Paí, Ó  أهواك  \\\n",
       "userId                                                                          \n",
       "1                                      NaN               NaN       NaN    NaN   \n",
       "2                                      NaN               NaN       NaN    NaN   \n",
       "3                                      NaN               NaN       NaN    NaN   \n",
       "4                                      NaN               NaN       NaN    NaN   \n",
       "5                                      NaN               NaN       NaN    NaN   \n",
       "\n",
       "title   貞子3D  \n",
       "userId        \n",
       "1        NaN  \n",
       "2        NaN  \n",
       "3        NaN  \n",
       "4        NaN  \n",
       "5        NaN  \n",
       "\n",
       "[5 rows x 23459 columns]"
      ]
     },
     "execution_count": 10,
     "metadata": {},
     "output_type": "execute_result"
    }
   ],
   "source": [
    "movie_ratings = movie_ratings.drop(\"year\", axis=1)\n",
    "movie_ratings = movie_ratings.drop(\"movieId\", axis=1)\n",
    "movie_ratings = movie_ratings.drop(\"genres\", axis=1)\n",
    "movie_ratings = movie_ratings.drop_duplicates(subset=[\"userId\" , \"title\"])\n",
    "movie_Pivot = movie_ratings.pivot(values=\"rating\" , columns=\"title\", index=\"userId\" )\n",
    "movie_Pivot.head()"
   ]
  },
  {
   "cell_type": "markdown",
   "id": "avCgUXUvCnSF",
   "metadata": {
    "id": "avCgUXUvCnSF"
   },
   "source": [
    "Perfect! Now that we have the pivot table, let's create a table with each movie in a row. Additionally, we can count the number of ratings for each movie.\n"
   ]
  },
  {
   "cell_type": "code",
   "execution_count": 11,
   "id": "5008b4b5-ce16-49d9-bd92-efc2e0b31ae1",
   "metadata": {
    "id": "5008b4b5-ce16-49d9-bd92-efc2e0b31ae1"
   },
   "outputs": [],
   "source": [
    "ratingCount = pd.DataFrame(movie_ratings.groupby('title')['rating'].count())"
   ]
  },
  {
   "cell_type": "markdown",
   "id": "nwXS0uYaDPvd",
   "metadata": {
    "id": "nwXS0uYaDPvd"
   },
   "source": [
    "Now, we want to find the correlation between the movie **Shrek** and other movies. We'll add these correlation values to the table we created.\n"
   ]
  },
  {
   "cell_type": "code",
   "execution_count": 12,
   "id": "03fc9ac3-f58e-4247-ba3e-31c693050cb2",
   "metadata": {
    "colab": {
     "base_uri": "https://localhost:8080/"
    },
    "id": "03fc9ac3-f58e-4247-ba3e-31c693050cb2",
    "outputId": "5b38d12b-1ff7-414e-af3f-d9c2ca60c7c9"
   },
   "outputs": [
    {
     "name": "stderr",
     "output_type": "stream",
     "text": [
      "C:\\Users\\Mavara\\anaconda3\\Lib\\site-packages\\numpy\\lib\\function_base.py:2846: RuntimeWarning: Degrees of freedom <= 0 for slice\n",
      "  c = cov(x, y, rowvar, dtype=dtype)\n",
      "C:\\Users\\Mavara\\anaconda3\\Lib\\site-packages\\numpy\\lib\\function_base.py:2705: RuntimeWarning: divide by zero encountered in divide\n",
      "  c *= np.true_divide(1, fact)\n",
      "C:\\Users\\Mavara\\anaconda3\\Lib\\site-packages\\numpy\\lib\\function_base.py:2705: RuntimeWarning: invalid value encountered in multiply\n",
      "  c *= np.true_divide(1, fact)\n",
      "C:\\Users\\Mavara\\anaconda3\\Lib\\site-packages\\numpy\\lib\\function_base.py:2854: RuntimeWarning: invalid value encountered in divide\n",
      "  c /= stddev[:, None]\n",
      "C:\\Users\\Mavara\\anaconda3\\Lib\\site-packages\\numpy\\lib\\function_base.py:2855: RuntimeWarning: invalid value encountered in divide\n",
      "  c /= stddev[None, :]\n"
     ]
    }
   ],
   "source": [
    "#Getting the correlation\n",
    "Shrek_corr = movie_Pivot.corrwith(movie_Pivot[\"Shrek\"])\n",
    "\n",
    "Shrek_corr = pd.DataFrame(Shrek_corr,columns=['Correlation'])\n",
    "Shrek_corr.dropna(inplace=True)\n",
    "Shrek_corr = Shrek_corr.join(ratingCount[\"rating\"])  #adding the ratings count to the table"
   ]
  },
  {
   "cell_type": "markdown",
   "id": "pe4j1HV3D3-a",
   "metadata": {
    "id": "pe4j1HV3D3-a"
   },
   "source": [
    "To ensure a fair comparison, we will only include movies that have more than 100 ratings. Then, we will sort the table by the correlation to find the movies most similar to *Shrek*.\n"
   ]
  },
  {
   "cell_type": "code",
   "execution_count": 13,
   "id": "67c3a3ab-1a44-4d34-8688-ec5b8fa7b573",
   "metadata": {
    "colab": {
     "base_uri": "https://localhost:8080/",
     "height": 238
    },
    "id": "67c3a3ab-1a44-4d34-8688-ec5b8fa7b573",
    "outputId": "444418b4-005a-464e-c665-57625c1a0b8b"
   },
   "outputs": [
    {
     "data": {
      "text/html": [
       "<div>\n",
       "<style scoped>\n",
       "    .dataframe tbody tr th:only-of-type {\n",
       "        vertical-align: middle;\n",
       "    }\n",
       "\n",
       "    .dataframe tbody tr th {\n",
       "        vertical-align: top;\n",
       "    }\n",
       "\n",
       "    .dataframe thead th {\n",
       "        text-align: right;\n",
       "    }\n",
       "</style>\n",
       "<table border=\"1\" class=\"dataframe\">\n",
       "  <thead>\n",
       "    <tr style=\"text-align: right;\">\n",
       "      <th></th>\n",
       "      <th>Correlation</th>\n",
       "      <th>rating</th>\n",
       "    </tr>\n",
       "    <tr>\n",
       "      <th>title</th>\n",
       "      <th></th>\n",
       "      <th></th>\n",
       "    </tr>\n",
       "  </thead>\n",
       "  <tbody>\n",
       "    <tr>\n",
       "      <th>Shrek</th>\n",
       "      <td>1.000000</td>\n",
       "      <td>6587</td>\n",
       "    </tr>\n",
       "    <tr>\n",
       "      <th>Shrek 2</th>\n",
       "      <td>0.739514</td>\n",
       "      <td>2953</td>\n",
       "    </tr>\n",
       "    <tr>\n",
       "      <th>Splendor in the Grass</th>\n",
       "      <td>0.588821</td>\n",
       "      <td>119</td>\n",
       "    </tr>\n",
       "    <tr>\n",
       "      <th>Perez Family, The</th>\n",
       "      <td>0.569923</td>\n",
       "      <td>136</td>\n",
       "    </tr>\n",
       "    <tr>\n",
       "      <th>Fantastic Planet, The (Planète sauvage, La)</th>\n",
       "      <td>0.557171</td>\n",
       "      <td>155</td>\n",
       "    </tr>\n",
       "  </tbody>\n",
       "</table>\n",
       "</div>"
      ],
      "text/plain": [
       "                                             Correlation  rating\n",
       "title                                                           \n",
       "Shrek                                           1.000000    6587\n",
       "Shrek 2                                         0.739514    2953\n",
       "Splendor in the Grass                           0.588821     119\n",
       "Perez Family, The                               0.569923     136\n",
       "Fantastic Planet, The (Planète sauvage, La)     0.557171     155"
      ]
     },
     "execution_count": 13,
     "metadata": {},
     "output_type": "execute_result"
    }
   ],
   "source": [
    "Shrek_corr[Shrek_corr[\"rating\"] > 100].sort_values(\"Correlation\" , ascending=False).head()"
   ]
  },
  {
   "cell_type": "markdown",
   "id": "woVq6SIlEnVT",
   "metadata": {
    "id": "woVq6SIlEnVT"
   },
   "source": [
    "***Wow, look at this! Shrek 2 is the most similar movie to Shrek. Great job ;)***\n",
    "\n",
    "<img src=\"img/shrek_2.jpg\" alt=\"Description\" width=\"200\" height=\"120\">"
   ]
  },
  {
   "cell_type": "markdown",
   "id": "1899cf03-2ad7-4c14-b096-cc0cb5817aec",
   "metadata": {
    "id": "1899cf03-2ad7-4c14-b096-cc0cb5817aec"
   },
   "source": [
    "## Clustering using (K-means)"
   ]
  },
  {
   "cell_type": "markdown",
   "id": "HtJkzOIcHONc",
   "metadata": {
    "id": "HtJkzOIcHONc"
   },
   "source": [
    "Now, we will cluster the movies based on their genre, Bayesian average rating, and release year. This approach will help us group movies that share similar genres, receive similar ratings adjusted using Bayesian averaging to account for rating quantity, and were released in similar years. Clustering based on these features can reveal patterns and similarities among movies.\n",
    "\n"
   ]
  },
  {
   "cell_type": "code",
   "execution_count": 14,
   "id": "8393e153-55a8-4d14-b42b-754d7152b055",
   "metadata": {
    "colab": {
     "base_uri": "https://localhost:8080/",
     "height": 112
    },
    "id": "8393e153-55a8-4d14-b42b-754d7152b055",
    "outputId": "82144787-d7ae-45e5-d3d7-dc3f856ccfe5"
   },
   "outputs": [
    {
     "data": {
      "text/html": [
       "<div>\n",
       "<style scoped>\n",
       "    .dataframe tbody tr th:only-of-type {\n",
       "        vertical-align: middle;\n",
       "    }\n",
       "\n",
       "    .dataframe tbody tr th {\n",
       "        vertical-align: top;\n",
       "    }\n",
       "\n",
       "    .dataframe thead th {\n",
       "        text-align: right;\n",
       "    }\n",
       "</style>\n",
       "<table border=\"1\" class=\"dataframe\">\n",
       "  <thead>\n",
       "    <tr style=\"text-align: right;\">\n",
       "      <th></th>\n",
       "      <th>movieId</th>\n",
       "      <th>title</th>\n",
       "      <th>year</th>\n",
       "      <th>count</th>\n",
       "      <th>mean</th>\n",
       "      <th>bayesian_avg</th>\n",
       "    </tr>\n",
       "  </thead>\n",
       "  <tbody>\n",
       "    <tr>\n",
       "      <th>0</th>\n",
       "      <td>1</td>\n",
       "      <td>Toy Story</td>\n",
       "      <td>1995</td>\n",
       "      <td>10464</td>\n",
       "      <td>3.886850</td>\n",
       "      <td>3.875</td>\n",
       "    </tr>\n",
       "    <tr>\n",
       "      <th>1</th>\n",
       "      <td>2</td>\n",
       "      <td>Jumanji</td>\n",
       "      <td>1995</td>\n",
       "      <td>4206</td>\n",
       "      <td>3.225036</td>\n",
       "      <td>3.220</td>\n",
       "    </tr>\n",
       "  </tbody>\n",
       "</table>\n",
       "</div>"
      ],
      "text/plain": [
       "   movieId      title  year  count      mean  bayesian_avg\n",
       "0        1  Toy Story  1995  10464  3.886850         3.875\n",
       "1        2    Jumanji  1995   4206  3.225036         3.220"
      ]
     },
     "execution_count": 14,
     "metadata": {},
     "output_type": "execute_result"
    }
   ],
   "source": [
    "movie_stats.head(2)"
   ]
  },
  {
   "cell_type": "markdown",
   "id": "oHj-OqY7IjD2",
   "metadata": {
    "id": "oHj-OqY7IjD2"
   },
   "source": [
    "Let's add the genres"
   ]
  },
  {
   "cell_type": "code",
   "execution_count": 15,
   "id": "b54c66c3-5143-47fa-ba7a-d43f3fc8798d",
   "metadata": {
    "colab": {
     "base_uri": "https://localhost:8080/",
     "height": 208
    },
    "id": "b54c66c3-5143-47fa-ba7a-d43f3fc8798d",
    "outputId": "106ba42a-a6f4-441e-b8f3-fddf8ed2fc41"
   },
   "outputs": [
    {
     "data": {
      "text/html": [
       "<div>\n",
       "<style scoped>\n",
       "    .dataframe tbody tr th:only-of-type {\n",
       "        vertical-align: middle;\n",
       "    }\n",
       "\n",
       "    .dataframe tbody tr th {\n",
       "        vertical-align: top;\n",
       "    }\n",
       "\n",
       "    .dataframe thead th {\n",
       "        text-align: right;\n",
       "    }\n",
       "</style>\n",
       "<table border=\"1\" class=\"dataframe\">\n",
       "  <thead>\n",
       "    <tr style=\"text-align: right;\">\n",
       "      <th></th>\n",
       "      <th>movieId</th>\n",
       "      <th>title</th>\n",
       "      <th>year</th>\n",
       "      <th>count</th>\n",
       "      <th>mean</th>\n",
       "      <th>bayesian_avg</th>\n",
       "      <th>(no genres listed)</th>\n",
       "      <th>Action</th>\n",
       "      <th>Adventure</th>\n",
       "      <th>Animation</th>\n",
       "      <th>...</th>\n",
       "      <th>Film-Noir</th>\n",
       "      <th>Horror</th>\n",
       "      <th>IMAX</th>\n",
       "      <th>Musical</th>\n",
       "      <th>Mystery</th>\n",
       "      <th>Romance</th>\n",
       "      <th>Sci-Fi</th>\n",
       "      <th>Thriller</th>\n",
       "      <th>War</th>\n",
       "      <th>Western</th>\n",
       "    </tr>\n",
       "  </thead>\n",
       "  <tbody>\n",
       "    <tr>\n",
       "      <th>0</th>\n",
       "      <td>1</td>\n",
       "      <td>Toy Story</td>\n",
       "      <td>1995</td>\n",
       "      <td>10464</td>\n",
       "      <td>3.886850</td>\n",
       "      <td>3.875</td>\n",
       "      <td>0</td>\n",
       "      <td>0</td>\n",
       "      <td>1</td>\n",
       "      <td>1</td>\n",
       "      <td>...</td>\n",
       "      <td>0</td>\n",
       "      <td>0</td>\n",
       "      <td>0</td>\n",
       "      <td>0</td>\n",
       "      <td>0</td>\n",
       "      <td>0</td>\n",
       "      <td>0</td>\n",
       "      <td>0</td>\n",
       "      <td>0</td>\n",
       "      <td>0</td>\n",
       "    </tr>\n",
       "    <tr>\n",
       "      <th>1</th>\n",
       "      <td>2</td>\n",
       "      <td>Jumanji</td>\n",
       "      <td>1995</td>\n",
       "      <td>4206</td>\n",
       "      <td>3.225036</td>\n",
       "      <td>3.220</td>\n",
       "      <td>0</td>\n",
       "      <td>0</td>\n",
       "      <td>1</td>\n",
       "      <td>0</td>\n",
       "      <td>...</td>\n",
       "      <td>0</td>\n",
       "      <td>0</td>\n",
       "      <td>0</td>\n",
       "      <td>0</td>\n",
       "      <td>0</td>\n",
       "      <td>0</td>\n",
       "      <td>0</td>\n",
       "      <td>0</td>\n",
       "      <td>0</td>\n",
       "      <td>0</td>\n",
       "    </tr>\n",
       "    <tr>\n",
       "      <th>2</th>\n",
       "      <td>3</td>\n",
       "      <td>Grumpier Old Men</td>\n",
       "      <td>1995</td>\n",
       "      <td>2676</td>\n",
       "      <td>3.210949</td>\n",
       "      <td>3.204</td>\n",
       "      <td>0</td>\n",
       "      <td>0</td>\n",
       "      <td>0</td>\n",
       "      <td>0</td>\n",
       "      <td>...</td>\n",
       "      <td>0</td>\n",
       "      <td>0</td>\n",
       "      <td>0</td>\n",
       "      <td>0</td>\n",
       "      <td>0</td>\n",
       "      <td>1</td>\n",
       "      <td>0</td>\n",
       "      <td>0</td>\n",
       "      <td>0</td>\n",
       "      <td>0</td>\n",
       "    </tr>\n",
       "  </tbody>\n",
       "</table>\n",
       "<p>3 rows × 26 columns</p>\n",
       "</div>"
      ],
      "text/plain": [
       "   movieId             title  year  count      mean  bayesian_avg  \\\n",
       "0        1         Toy Story  1995  10464  3.886850         3.875   \n",
       "1        2           Jumanji  1995   4206  3.225036         3.220   \n",
       "2        3  Grumpier Old Men  1995   2676  3.210949         3.204   \n",
       "\n",
       "   (no genres listed)  Action  Adventure  Animation  ...  Film-Noir  Horror  \\\n",
       "0                   0       0          1          1  ...          0       0   \n",
       "1                   0       0          1          0  ...          0       0   \n",
       "2                   0       0          0          0  ...          0       0   \n",
       "\n",
       "   IMAX  Musical  Mystery  Romance  Sci-Fi  Thriller  War  Western  \n",
       "0     0        0        0        0       0         0    0        0  \n",
       "1     0        0        0        0       0         0    0        0  \n",
       "2     0        0        0        1       0         0    0        0  \n",
       "\n",
       "[3 rows x 26 columns]"
      ]
     },
     "execution_count": 15,
     "metadata": {},
     "output_type": "execute_result"
    }
   ],
   "source": [
    "movie_content = movie_stats.merge(genres , on= \"movieId\")\n",
    "movie_content.head(3)"
   ]
  },
  {
   "cell_type": "code",
   "execution_count": 16,
   "id": "10f9045f-82fe-4c19-885b-c9eafca092a6",
   "metadata": {
    "id": "10f9045f-82fe-4c19-885b-c9eafca092a6"
   },
   "outputs": [],
   "source": [
    "movie_content = movie_content.drop(\"mean\" ,axis=1 ) #removing the Mean (because we use bayesian-mean)\n",
    "# removing the title and movieId\n",
    "x = movie_content.drop(\"movieId\" , axis=1)\n",
    "x = x.drop(\"title\" , axis = 1)"
   ]
  },
  {
   "cell_type": "markdown",
   "id": "Iwms5UVXJDPI",
   "metadata": {
    "id": "Iwms5UVXJDPI"
   },
   "source": [
    "For clustering, we will use the ***K-means*** algorithm from the `sklearn` library. Let's import it and fit our data to it.\n"
   ]
  },
  {
   "cell_type": "code",
   "execution_count": 17,
   "id": "233397fa-f4de-4f1f-8f28-4356e396d2c9",
   "metadata": {
    "colab": {
     "base_uri": "https://localhost:8080/",
     "height": 75
    },
    "id": "233397fa-f4de-4f1f-8f28-4356e396d2c9",
    "outputId": "9a095577-7948-4e1f-cbe8-72f1d67c7eba"
   },
   "outputs": [
    {
     "data": {
      "text/html": [
       "<style>#sk-container-id-1 {color: black;}#sk-container-id-1 pre{padding: 0;}#sk-container-id-1 div.sk-toggleable {background-color: white;}#sk-container-id-1 label.sk-toggleable__label {cursor: pointer;display: block;width: 100%;margin-bottom: 0;padding: 0.3em;box-sizing: border-box;text-align: center;}#sk-container-id-1 label.sk-toggleable__label-arrow:before {content: \"▸\";float: left;margin-right: 0.25em;color: #696969;}#sk-container-id-1 label.sk-toggleable__label-arrow:hover:before {color: black;}#sk-container-id-1 div.sk-estimator:hover label.sk-toggleable__label-arrow:before {color: black;}#sk-container-id-1 div.sk-toggleable__content {max-height: 0;max-width: 0;overflow: hidden;text-align: left;background-color: #f0f8ff;}#sk-container-id-1 div.sk-toggleable__content pre {margin: 0.2em;color: black;border-radius: 0.25em;background-color: #f0f8ff;}#sk-container-id-1 input.sk-toggleable__control:checked~div.sk-toggleable__content {max-height: 200px;max-width: 100%;overflow: auto;}#sk-container-id-1 input.sk-toggleable__control:checked~label.sk-toggleable__label-arrow:before {content: \"▾\";}#sk-container-id-1 div.sk-estimator input.sk-toggleable__control:checked~label.sk-toggleable__label {background-color: #d4ebff;}#sk-container-id-1 div.sk-label input.sk-toggleable__control:checked~label.sk-toggleable__label {background-color: #d4ebff;}#sk-container-id-1 input.sk-hidden--visually {border: 0;clip: rect(1px 1px 1px 1px);clip: rect(1px, 1px, 1px, 1px);height: 1px;margin: -1px;overflow: hidden;padding: 0;position: absolute;width: 1px;}#sk-container-id-1 div.sk-estimator {font-family: monospace;background-color: #f0f8ff;border: 1px dotted black;border-radius: 0.25em;box-sizing: border-box;margin-bottom: 0.5em;}#sk-container-id-1 div.sk-estimator:hover {background-color: #d4ebff;}#sk-container-id-1 div.sk-parallel-item::after {content: \"\";width: 100%;border-bottom: 1px solid gray;flex-grow: 1;}#sk-container-id-1 div.sk-label:hover label.sk-toggleable__label {background-color: #d4ebff;}#sk-container-id-1 div.sk-serial::before {content: \"\";position: absolute;border-left: 1px solid gray;box-sizing: border-box;top: 0;bottom: 0;left: 50%;z-index: 0;}#sk-container-id-1 div.sk-serial {display: flex;flex-direction: column;align-items: center;background-color: white;padding-right: 0.2em;padding-left: 0.2em;position: relative;}#sk-container-id-1 div.sk-item {position: relative;z-index: 1;}#sk-container-id-1 div.sk-parallel {display: flex;align-items: stretch;justify-content: center;background-color: white;position: relative;}#sk-container-id-1 div.sk-item::before, #sk-container-id-1 div.sk-parallel-item::before {content: \"\";position: absolute;border-left: 1px solid gray;box-sizing: border-box;top: 0;bottom: 0;left: 50%;z-index: -1;}#sk-container-id-1 div.sk-parallel-item {display: flex;flex-direction: column;z-index: 1;position: relative;background-color: white;}#sk-container-id-1 div.sk-parallel-item:first-child::after {align-self: flex-end;width: 50%;}#sk-container-id-1 div.sk-parallel-item:last-child::after {align-self: flex-start;width: 50%;}#sk-container-id-1 div.sk-parallel-item:only-child::after {width: 0;}#sk-container-id-1 div.sk-dashed-wrapped {border: 1px dashed gray;margin: 0 0.4em 0.5em 0.4em;box-sizing: border-box;padding-bottom: 0.4em;background-color: white;}#sk-container-id-1 div.sk-label label {font-family: monospace;font-weight: bold;display: inline-block;line-height: 1.2em;}#sk-container-id-1 div.sk-label-container {text-align: center;}#sk-container-id-1 div.sk-container {/* jupyter's `normalize.less` sets `[hidden] { display: none; }` but bootstrap.min.css set `[hidden] { display: none !important; }` so we also need the `!important` here to be able to override the default hidden behavior on the sphinx rendered scikit-learn.org. See: https://github.com/scikit-learn/scikit-learn/issues/21755 */display: inline-block !important;position: relative;}#sk-container-id-1 div.sk-text-repr-fallback {display: none;}</style><div id=\"sk-container-id-1\" class=\"sk-top-container\"><div class=\"sk-text-repr-fallback\"><pre>KMeans(n_clusters=30, n_init=12)</pre><b>In a Jupyter environment, please rerun this cell to show the HTML representation or trust the notebook. <br />On GitHub, the HTML representation is unable to render, please try loading this page with nbviewer.org.</b></div><div class=\"sk-container\" hidden><div class=\"sk-item\"><div class=\"sk-estimator sk-toggleable\"><input class=\"sk-toggleable__control sk-hidden--visually\" id=\"sk-estimator-id-1\" type=\"checkbox\" checked><label for=\"sk-estimator-id-1\" class=\"sk-toggleable__label sk-toggleable__label-arrow\">KMeans</label><div class=\"sk-toggleable__content\"><pre>KMeans(n_clusters=30, n_init=12)</pre></div></div></div></div></div>"
      ],
      "text/plain": [
       "KMeans(n_clusters=30, n_init=12)"
      ]
     },
     "execution_count": 17,
     "metadata": {},
     "output_type": "execute_result"
    }
   ],
   "source": [
    "from sklearn.cluster import KMeans\n",
    "N = 30 # number of Cluster Groups\n",
    "clusterModle = KMeans(init=\"k-means++\", n_clusters = N , n_init=12)\n",
    "clusterModle.fit(x)"
   ]
  },
  {
   "cell_type": "markdown",
   "id": "DfJVC945JWra",
   "metadata": {
    "id": "DfJVC945JWra"
   },
   "source": [
    "Let's examine the labels (group numbers) assigned by the K-means algorithm.\n"
   ]
  },
  {
   "cell_type": "code",
   "execution_count": 18,
   "id": "9e5f7aee-f4a9-4b06-be28-49e1b00c0958",
   "metadata": {
    "colab": {
     "base_uri": "https://localhost:8080/"
    },
    "id": "9e5f7aee-f4a9-4b06-be28-49e1b00c0958",
    "outputId": "06858a0e-484a-425e-a4d4-8356015b0a16"
   },
   "outputs": [
    {
     "data": {
      "text/plain": [
       "array([12, 21, 19, ..., 29, 29, 13])"
      ]
     },
     "execution_count": 18,
     "metadata": {},
     "output_type": "execute_result"
    }
   ],
   "source": [
    "lables = clusterModle.labels_\n",
    "lables"
   ]
  },
  {
   "cell_type": "code",
   "execution_count": 19,
   "id": "925f28a6-e087-4291-a494-545d2ad8bbeb",
   "metadata": {
    "colab": {
     "base_uri": "https://localhost:8080/",
     "height": 208
    },
    "id": "925f28a6-e087-4291-a494-545d2ad8bbeb",
    "outputId": "614a5404-8ac6-4e5f-fa57-5601fdfb0436"
   },
   "outputs": [
    {
     "data": {
      "text/html": [
       "<div>\n",
       "<style scoped>\n",
       "    .dataframe tbody tr th:only-of-type {\n",
       "        vertical-align: middle;\n",
       "    }\n",
       "\n",
       "    .dataframe tbody tr th {\n",
       "        vertical-align: top;\n",
       "    }\n",
       "\n",
       "    .dataframe thead th {\n",
       "        text-align: right;\n",
       "    }\n",
       "</style>\n",
       "<table border=\"1\" class=\"dataframe\">\n",
       "  <thead>\n",
       "    <tr style=\"text-align: right;\">\n",
       "      <th></th>\n",
       "      <th>movieId</th>\n",
       "      <th>title</th>\n",
       "      <th>year</th>\n",
       "      <th>count</th>\n",
       "      <th>bayesian_avg</th>\n",
       "      <th>(no genres listed)</th>\n",
       "      <th>Action</th>\n",
       "      <th>Adventure</th>\n",
       "      <th>Animation</th>\n",
       "      <th>Children</th>\n",
       "      <th>...</th>\n",
       "      <th>Horror</th>\n",
       "      <th>IMAX</th>\n",
       "      <th>Musical</th>\n",
       "      <th>Mystery</th>\n",
       "      <th>Romance</th>\n",
       "      <th>Sci-Fi</th>\n",
       "      <th>Thriller</th>\n",
       "      <th>War</th>\n",
       "      <th>Western</th>\n",
       "      <th>lable</th>\n",
       "    </tr>\n",
       "  </thead>\n",
       "  <tbody>\n",
       "    <tr>\n",
       "      <th>0</th>\n",
       "      <td>1</td>\n",
       "      <td>Toy Story</td>\n",
       "      <td>1995</td>\n",
       "      <td>10464</td>\n",
       "      <td>3.875</td>\n",
       "      <td>0</td>\n",
       "      <td>0</td>\n",
       "      <td>1</td>\n",
       "      <td>1</td>\n",
       "      <td>1</td>\n",
       "      <td>...</td>\n",
       "      <td>0</td>\n",
       "      <td>0</td>\n",
       "      <td>0</td>\n",
       "      <td>0</td>\n",
       "      <td>0</td>\n",
       "      <td>0</td>\n",
       "      <td>0</td>\n",
       "      <td>0</td>\n",
       "      <td>0</td>\n",
       "      <td>12</td>\n",
       "    </tr>\n",
       "    <tr>\n",
       "      <th>1</th>\n",
       "      <td>2</td>\n",
       "      <td>Jumanji</td>\n",
       "      <td>1995</td>\n",
       "      <td>4206</td>\n",
       "      <td>3.220</td>\n",
       "      <td>0</td>\n",
       "      <td>0</td>\n",
       "      <td>1</td>\n",
       "      <td>0</td>\n",
       "      <td>1</td>\n",
       "      <td>...</td>\n",
       "      <td>0</td>\n",
       "      <td>0</td>\n",
       "      <td>0</td>\n",
       "      <td>0</td>\n",
       "      <td>0</td>\n",
       "      <td>0</td>\n",
       "      <td>0</td>\n",
       "      <td>0</td>\n",
       "      <td>0</td>\n",
       "      <td>21</td>\n",
       "    </tr>\n",
       "    <tr>\n",
       "      <th>2</th>\n",
       "      <td>3</td>\n",
       "      <td>Grumpier Old Men</td>\n",
       "      <td>1995</td>\n",
       "      <td>2676</td>\n",
       "      <td>3.204</td>\n",
       "      <td>0</td>\n",
       "      <td>0</td>\n",
       "      <td>0</td>\n",
       "      <td>0</td>\n",
       "      <td>0</td>\n",
       "      <td>...</td>\n",
       "      <td>0</td>\n",
       "      <td>0</td>\n",
       "      <td>0</td>\n",
       "      <td>0</td>\n",
       "      <td>1</td>\n",
       "      <td>0</td>\n",
       "      <td>0</td>\n",
       "      <td>0</td>\n",
       "      <td>0</td>\n",
       "      <td>19</td>\n",
       "    </tr>\n",
       "  </tbody>\n",
       "</table>\n",
       "<p>3 rows × 26 columns</p>\n",
       "</div>"
      ],
      "text/plain": [
       "   movieId             title  year  count  bayesian_avg  (no genres listed)  \\\n",
       "0        1         Toy Story  1995  10464         3.875                   0   \n",
       "1        2           Jumanji  1995   4206         3.220                   0   \n",
       "2        3  Grumpier Old Men  1995   2676         3.204                   0   \n",
       "\n",
       "   Action  Adventure  Animation  Children  ...  Horror  IMAX  Musical  \\\n",
       "0       0          1          1         1  ...       0     0        0   \n",
       "1       0          1          0         1  ...       0     0        0   \n",
       "2       0          0          0         0  ...       0     0        0   \n",
       "\n",
       "   Mystery  Romance  Sci-Fi  Thriller  War  Western  lable  \n",
       "0        0        0       0         0    0        0     12  \n",
       "1        0        0       0         0    0        0     21  \n",
       "2        0        1       0         0    0        0     19  \n",
       "\n",
       "[3 rows x 26 columns]"
      ]
     },
     "execution_count": 19,
     "metadata": {},
     "output_type": "execute_result"
    }
   ],
   "source": [
    "#adding the lable to the table\n",
    "movie_content[\"lable\"] = lables\n",
    "movie_content.head(3)"
   ]
  },
  {
   "cell_type": "markdown",
   "id": "WpmRf7HBJsOf",
   "metadata": {
    "id": "WpmRf7HBJsOf"
   },
   "source": [
    "Let's determine which cluster the movie \"Shrek\" belongs to.\n"
   ]
  },
  {
   "cell_type": "code",
   "execution_count": 27,
   "id": "8859f88b-3198-485a-977a-623e581e32f3",
   "metadata": {
    "colab": {
     "base_uri": "https://localhost:8080/"
    },
    "id": "8859f88b-3198-485a-977a-623e581e32f3",
    "outputId": "2a876739-cfc0-40b9-a083-d3b46006ddcd"
   },
   "outputs": [
    {
     "data": {
      "text/plain": [
       "3194    22\n",
       "Name: lable, dtype: int32"
      ]
     },
     "execution_count": 27,
     "metadata": {},
     "output_type": "execute_result"
    }
   ],
   "source": [
    "movie_content[movie_content.title == \"Shrek\"].lable"
   ]
  },
  {
   "cell_type": "code",
   "execution_count": 28,
   "id": "7ec07684-99f1-4462-9f7d-b0b70c768b0d",
   "metadata": {
    "colab": {
     "base_uri": "https://localhost:8080/",
     "height": 520
    },
    "id": "7ec07684-99f1-4462-9f7d-b0b70c768b0d",
    "outputId": "24451a82-8ede-4c56-d42f-2512d5b8f680"
   },
   "outputs": [
    {
     "data": {
      "text/html": [
       "<div>\n",
       "<style scoped>\n",
       "    .dataframe tbody tr th:only-of-type {\n",
       "        vertical-align: middle;\n",
       "    }\n",
       "\n",
       "    .dataframe tbody tr th {\n",
       "        vertical-align: top;\n",
       "    }\n",
       "\n",
       "    .dataframe thead th {\n",
       "        text-align: right;\n",
       "    }\n",
       "</style>\n",
       "<table border=\"1\" class=\"dataframe\">\n",
       "  <thead>\n",
       "    <tr style=\"text-align: right;\">\n",
       "      <th></th>\n",
       "      <th>movieId</th>\n",
       "      <th>title</th>\n",
       "      <th>genres</th>\n",
       "      <th>year</th>\n",
       "    </tr>\n",
       "  </thead>\n",
       "  <tbody>\n",
       "    <tr>\n",
       "      <th>126</th>\n",
       "      <td>153</td>\n",
       "      <td>Batman Forever</td>\n",
       "      <td>['Action', 'Adventure', 'Comedy', 'Crime']</td>\n",
       "      <td>1995</td>\n",
       "    </tr>\n",
       "    <tr>\n",
       "      <th>138</th>\n",
       "      <td>165</td>\n",
       "      <td>Die Hard: With a Vengeance</td>\n",
       "      <td>['Action', 'Crime', 'Thriller']</td>\n",
       "      <td>1995</td>\n",
       "    </tr>\n",
       "    <tr>\n",
       "      <th>197</th>\n",
       "      <td>231</td>\n",
       "      <td>Dumb &amp; Dumber (Dumb and Dumber)</td>\n",
       "      <td>['Adventure', 'Comedy']</td>\n",
       "      <td>1994</td>\n",
       "    </tr>\n",
       "    <tr>\n",
       "      <th>325</th>\n",
       "      <td>367</td>\n",
       "      <td>Mask, The</td>\n",
       "      <td>['Action', 'Comedy', 'Crime', 'Fantasy']</td>\n",
       "      <td>1994</td>\n",
       "    </tr>\n",
       "    <tr>\n",
       "      <th>436</th>\n",
       "      <td>500</td>\n",
       "      <td>Mrs. Doubtfire</td>\n",
       "      <td>['Comedy', 'Drama']</td>\n",
       "      <td>1993</td>\n",
       "    </tr>\n",
       "    <tr>\n",
       "      <th>512</th>\n",
       "      <td>595</td>\n",
       "      <td>Beauty and the Beast</td>\n",
       "      <td>['Animation', 'Children', 'Fantasy', 'Musical'...</td>\n",
       "      <td>1991</td>\n",
       "    </tr>\n",
       "    <tr>\n",
       "      <th>594</th>\n",
       "      <td>736</td>\n",
       "      <td>Twister</td>\n",
       "      <td>['Action', 'Adventure', 'Romance', 'Thriller']</td>\n",
       "      <td>1996</td>\n",
       "    </tr>\n",
       "    <tr>\n",
       "      <th>836</th>\n",
       "      <td>1097</td>\n",
       "      <td>E.T. the Extra-Terrestrial</td>\n",
       "      <td>['Children', 'Drama', 'Sci-Fi']</td>\n",
       "      <td>1982</td>\n",
       "    </tr>\n",
       "    <tr>\n",
       "      <th>896</th>\n",
       "      <td>1193</td>\n",
       "      <td>One Flew Over the Cuckoo's Nest</td>\n",
       "      <td>['Drama']</td>\n",
       "      <td>1975</td>\n",
       "    </tr>\n",
       "    <tr>\n",
       "      <th>899</th>\n",
       "      <td>1197</td>\n",
       "      <td>Princess Bride, The</td>\n",
       "      <td>['Action', 'Adventure', 'Comedy', 'Fantasy', '...</td>\n",
       "      <td>1987</td>\n",
       "    </tr>\n",
       "    <tr>\n",
       "      <th>939</th>\n",
       "      <td>1240</td>\n",
       "      <td>Terminator, The</td>\n",
       "      <td>['Action', 'Sci-Fi', 'Thriller']</td>\n",
       "      <td>1984</td>\n",
       "    </tr>\n",
       "    <tr>\n",
       "      <th>1183</th>\n",
       "      <td>1580</td>\n",
       "      <td>Men in Black (a.k.a. MIB)</td>\n",
       "      <td>['Action', 'Comedy', 'Sci-Fi']</td>\n",
       "      <td>1997</td>\n",
       "    </tr>\n",
       "    <tr>\n",
       "      <th>1291</th>\n",
       "      <td>1721</td>\n",
       "      <td>Titanic</td>\n",
       "      <td>['Drama', 'Romance']</td>\n",
       "      <td>1997</td>\n",
       "    </tr>\n",
       "    <tr>\n",
       "      <th>2674</th>\n",
       "      <td>3578</td>\n",
       "      <td>Gladiator</td>\n",
       "      <td>['Action', 'Adventure', 'Drama']</td>\n",
       "      <td>2000</td>\n",
       "    </tr>\n",
       "    <tr>\n",
       "      <th>3194</th>\n",
       "      <td>4306</td>\n",
       "      <td>Shrek</td>\n",
       "      <td>['Adventure', 'Animation', 'Children', 'Comedy...</td>\n",
       "      <td>2001</td>\n",
       "    </tr>\n",
       "  </tbody>\n",
       "</table>\n",
       "</div>"
      ],
      "text/plain": [
       "      movieId                            title  \\\n",
       "126       153                   Batman Forever   \n",
       "138       165       Die Hard: With a Vengeance   \n",
       "197       231  Dumb & Dumber (Dumb and Dumber)   \n",
       "325       367                        Mask, The   \n",
       "436       500                   Mrs. Doubtfire   \n",
       "512       595             Beauty and the Beast   \n",
       "594       736                          Twister   \n",
       "836      1097       E.T. the Extra-Terrestrial   \n",
       "896      1193  One Flew Over the Cuckoo's Nest   \n",
       "899      1197              Princess Bride, The   \n",
       "939      1240                  Terminator, The   \n",
       "1183     1580        Men in Black (a.k.a. MIB)   \n",
       "1291     1721                          Titanic   \n",
       "2674     3578                        Gladiator   \n",
       "3194     4306                            Shrek   \n",
       "\n",
       "                                                 genres  year  \n",
       "126          ['Action', 'Adventure', 'Comedy', 'Crime']  1995  \n",
       "138                     ['Action', 'Crime', 'Thriller']  1995  \n",
       "197                             ['Adventure', 'Comedy']  1994  \n",
       "325            ['Action', 'Comedy', 'Crime', 'Fantasy']  1994  \n",
       "436                                 ['Comedy', 'Drama']  1993  \n",
       "512   ['Animation', 'Children', 'Fantasy', 'Musical'...  1991  \n",
       "594      ['Action', 'Adventure', 'Romance', 'Thriller']  1996  \n",
       "836                     ['Children', 'Drama', 'Sci-Fi']  1982  \n",
       "896                                           ['Drama']  1975  \n",
       "899   ['Action', 'Adventure', 'Comedy', 'Fantasy', '...  1987  \n",
       "939                    ['Action', 'Sci-Fi', 'Thriller']  1984  \n",
       "1183                     ['Action', 'Comedy', 'Sci-Fi']  1997  \n",
       "1291                               ['Drama', 'Romance']  1997  \n",
       "2674                   ['Action', 'Adventure', 'Drama']  2000  \n",
       "3194  ['Adventure', 'Animation', 'Children', 'Comedy...  2001  "
      ]
     },
     "execution_count": 28,
     "metadata": {},
     "output_type": "execute_result"
    }
   ],
   "source": [
    "movies[movies[\"movieId\"].isin( movie_content[\"movieId\"][movie_content[\"lable\"] == 22].values)]"
   ]
  },
  {
   "cell_type": "markdown",
   "id": "6yw81DcAK3ee",
   "metadata": {
    "id": "6yw81DcAK3ee"
   },
   "source": [
    "Wow, there are some great movies here! As you can see, one of my favorite movies, `'Beauty and the Beast,'` is included in this cluster. It's always a delight to find movies that I enjoy. I've also spotted some other movies that I like as well.\n",
    "\n",
    "<img src=\"img/BeautyandtheBeast.jpg\" alt=\"Description\" width=\"200\" height=\"120\">"
   ]
  },
  {
   "cell_type": "markdown",
   "id": "153c225b-9f39-4def-aafb-03d9da3e085f",
   "metadata": {},
   "source": [
    "Additionally, you might recall that I added ***\"The Mask\"*** to `my personal profile` earlier in the notebook. As it turns out, this movie is  included in our list:) \n",
    "\n",
    "<img src=\"img/Mask.jpg\" alt=\"Description\" width=\"200\" height=\"120\">\n"
   ]
  },
  {
   "cell_type": "markdown",
   "id": "da975be5-843b-4a5e-9f7a-b5af8aed3fb3",
   "metadata": {
    "id": "da975be5-843b-4a5e-9f7a-b5af8aed3fb3"
   },
   "source": [
    "## Collaborative filtering using (KNN)\n",
    "Now, we are going to implement a popular method called Collaborative Filtering using the **K-Nearest Neighbors** (KNN) algorithm.\n"
   ]
  },
  {
   "cell_type": "markdown",
   "id": "3sM-UR5ALiMh",
   "metadata": {
    "id": "3sM-UR5ALiMh"
   },
   "source": [
    "*Collaborative filtering* is a technique used in recommendation systems to predict interests or preferences by leveraging similarities between users  based on their ratings. It helps recommend items to users based on the preferences of similar users or recommend similar items based on past user interactions."
   ]
  },
  {
   "cell_type": "markdown",
   "id": "H7Pln2C5L3La",
   "metadata": {
    "id": "H7Pln2C5L3La"
   },
   "source": [
    "First, we need to create a pivot table where movies are in rows, users are in columns, and ratings are the values.\n"
   ]
  },
  {
   "cell_type": "code",
   "execution_count": 30,
   "id": "024220b6-79f3-4722-b159-d3f2885cf61c",
   "metadata": {
    "id": "024220b6-79f3-4722-b159-d3f2885cf61c"
   },
   "outputs": [],
   "source": [
    "rating_Pivot = movie_ratings.pivot(values=\"rating\" , columns=\"userId\", index=\"title\" ).fillna(0)"
   ]
  },
  {
   "cell_type": "code",
   "execution_count": 32,
   "id": "bc04132c-8781-4671-bbc4-5e13bcbe34eb",
   "metadata": {
    "colab": {
     "base_uri": "https://localhost:8080/",
     "height": 173
    },
    "id": "bc04132c-8781-4671-bbc4-5e13bcbe34eb",
    "outputId": "2ce7ad05-3418-412d-ff6b-eade7b7f268f"
   },
   "outputs": [
    {
     "data": {
      "text/html": [
       "<div>\n",
       "<style scoped>\n",
       "    .dataframe tbody tr th:only-of-type {\n",
       "        vertical-align: middle;\n",
       "    }\n",
       "\n",
       "    .dataframe tbody tr th {\n",
       "        vertical-align: top;\n",
       "    }\n",
       "\n",
       "    .dataframe thead th {\n",
       "        text-align: right;\n",
       "    }\n",
       "</style>\n",
       "<table border=\"1\" class=\"dataframe\">\n",
       "  <thead>\n",
       "    <tr style=\"text-align: right;\">\n",
       "      <th>userId</th>\n",
       "      <th>1</th>\n",
       "      <th>2</th>\n",
       "      <th>3</th>\n",
       "      <th>4</th>\n",
       "      <th>5</th>\n",
       "      <th>6</th>\n",
       "      <th>7</th>\n",
       "      <th>8</th>\n",
       "      <th>9</th>\n",
       "      <th>10</th>\n",
       "      <th>...</th>\n",
       "      <th>42121</th>\n",
       "      <th>42122</th>\n",
       "      <th>42123</th>\n",
       "      <th>42124</th>\n",
       "      <th>42125</th>\n",
       "      <th>42126</th>\n",
       "      <th>42127</th>\n",
       "      <th>42128</th>\n",
       "      <th>42129</th>\n",
       "      <th>42130</th>\n",
       "    </tr>\n",
       "    <tr>\n",
       "      <th>title</th>\n",
       "      <th></th>\n",
       "      <th></th>\n",
       "      <th></th>\n",
       "      <th></th>\n",
       "      <th></th>\n",
       "      <th></th>\n",
       "      <th></th>\n",
       "      <th></th>\n",
       "      <th></th>\n",
       "      <th></th>\n",
       "      <th></th>\n",
       "      <th></th>\n",
       "      <th></th>\n",
       "      <th></th>\n",
       "      <th></th>\n",
       "      <th></th>\n",
       "      <th></th>\n",
       "      <th></th>\n",
       "      <th></th>\n",
       "      <th></th>\n",
       "      <th></th>\n",
       "    </tr>\n",
       "  </thead>\n",
       "  <tbody>\n",
       "    <tr>\n",
       "      <th>\"Great Performances\" Cats</th>\n",
       "      <td>0.0</td>\n",
       "      <td>0.0</td>\n",
       "      <td>0.0</td>\n",
       "      <td>0.0</td>\n",
       "      <td>0.0</td>\n",
       "      <td>0.0</td>\n",
       "      <td>0.0</td>\n",
       "      <td>0.0</td>\n",
       "      <td>0.0</td>\n",
       "      <td>0.0</td>\n",
       "      <td>...</td>\n",
       "      <td>0.0</td>\n",
       "      <td>0.0</td>\n",
       "      <td>0.0</td>\n",
       "      <td>0.0</td>\n",
       "      <td>0.0</td>\n",
       "      <td>0.0</td>\n",
       "      <td>0.0</td>\n",
       "      <td>0.0</td>\n",
       "      <td>0.0</td>\n",
       "      <td>0.0</td>\n",
       "    </tr>\n",
       "    <tr>\n",
       "      <th>#1 Cheerleader Camp</th>\n",
       "      <td>0.0</td>\n",
       "      <td>0.0</td>\n",
       "      <td>0.0</td>\n",
       "      <td>0.0</td>\n",
       "      <td>0.0</td>\n",
       "      <td>0.0</td>\n",
       "      <td>0.0</td>\n",
       "      <td>0.0</td>\n",
       "      <td>0.0</td>\n",
       "      <td>0.0</td>\n",
       "      <td>...</td>\n",
       "      <td>0.0</td>\n",
       "      <td>0.0</td>\n",
       "      <td>0.0</td>\n",
       "      <td>0.0</td>\n",
       "      <td>0.0</td>\n",
       "      <td>0.0</td>\n",
       "      <td>0.0</td>\n",
       "      <td>0.0</td>\n",
       "      <td>0.0</td>\n",
       "      <td>0.0</td>\n",
       "    </tr>\n",
       "  </tbody>\n",
       "</table>\n",
       "<p>2 rows × 42114 columns</p>\n",
       "</div>"
      ],
      "text/plain": [
       "userId                     1      2      3      4      5      6      7      \\\n",
       "title                                                                        \n",
       "\"Great Performances\" Cats    0.0    0.0    0.0    0.0    0.0    0.0    0.0   \n",
       "#1 Cheerleader Camp          0.0    0.0    0.0    0.0    0.0    0.0    0.0   \n",
       "\n",
       "userId                     8      9      10     ...  42121  42122  42123  \\\n",
       "title                                           ...                        \n",
       "\"Great Performances\" Cats    0.0    0.0    0.0  ...    0.0    0.0    0.0   \n",
       "#1 Cheerleader Camp          0.0    0.0    0.0  ...    0.0    0.0    0.0   \n",
       "\n",
       "userId                     42124  42125  42126  42127  42128  42129  42130  \n",
       "title                                                                       \n",
       "\"Great Performances\" Cats    0.0    0.0    0.0    0.0    0.0    0.0    0.0  \n",
       "#1 Cheerleader Camp          0.0    0.0    0.0    0.0    0.0    0.0    0.0  \n",
       "\n",
       "[2 rows x 42114 columns]"
      ]
     },
     "execution_count": 32,
     "metadata": {},
     "output_type": "execute_result"
    }
   ],
   "source": [
    "rating_Pivot.head(2)"
   ]
  },
  {
   "cell_type": "markdown",
   "id": "Peyfe2hlMHx3",
   "metadata": {
    "id": "Peyfe2hlMHx3"
   },
   "source": [
    "Next, we will import `csr_matrix` to convert the pivot table to a sparse matrix format. Then, we'll import `KNN` from `sklearn` and fit the matrix to it.\n"
   ]
  },
  {
   "cell_type": "code",
   "execution_count": 31,
   "id": "62a6d757-2785-48a3-9610-60c4cae6d822",
   "metadata": {
    "colab": {
     "base_uri": "https://localhost:8080/",
     "height": 75
    },
    "id": "62a6d757-2785-48a3-9610-60c4cae6d822",
    "outputId": "b30cc323-58eb-4ab2-e206-b7be9ca5ceaf"
   },
   "outputs": [
    {
     "data": {
      "text/html": [
       "<style>#sk-container-id-2 {color: black;}#sk-container-id-2 pre{padding: 0;}#sk-container-id-2 div.sk-toggleable {background-color: white;}#sk-container-id-2 label.sk-toggleable__label {cursor: pointer;display: block;width: 100%;margin-bottom: 0;padding: 0.3em;box-sizing: border-box;text-align: center;}#sk-container-id-2 label.sk-toggleable__label-arrow:before {content: \"▸\";float: left;margin-right: 0.25em;color: #696969;}#sk-container-id-2 label.sk-toggleable__label-arrow:hover:before {color: black;}#sk-container-id-2 div.sk-estimator:hover label.sk-toggleable__label-arrow:before {color: black;}#sk-container-id-2 div.sk-toggleable__content {max-height: 0;max-width: 0;overflow: hidden;text-align: left;background-color: #f0f8ff;}#sk-container-id-2 div.sk-toggleable__content pre {margin: 0.2em;color: black;border-radius: 0.25em;background-color: #f0f8ff;}#sk-container-id-2 input.sk-toggleable__control:checked~div.sk-toggleable__content {max-height: 200px;max-width: 100%;overflow: auto;}#sk-container-id-2 input.sk-toggleable__control:checked~label.sk-toggleable__label-arrow:before {content: \"▾\";}#sk-container-id-2 div.sk-estimator input.sk-toggleable__control:checked~label.sk-toggleable__label {background-color: #d4ebff;}#sk-container-id-2 div.sk-label input.sk-toggleable__control:checked~label.sk-toggleable__label {background-color: #d4ebff;}#sk-container-id-2 input.sk-hidden--visually {border: 0;clip: rect(1px 1px 1px 1px);clip: rect(1px, 1px, 1px, 1px);height: 1px;margin: -1px;overflow: hidden;padding: 0;position: absolute;width: 1px;}#sk-container-id-2 div.sk-estimator {font-family: monospace;background-color: #f0f8ff;border: 1px dotted black;border-radius: 0.25em;box-sizing: border-box;margin-bottom: 0.5em;}#sk-container-id-2 div.sk-estimator:hover {background-color: #d4ebff;}#sk-container-id-2 div.sk-parallel-item::after {content: \"\";width: 100%;border-bottom: 1px solid gray;flex-grow: 1;}#sk-container-id-2 div.sk-label:hover label.sk-toggleable__label {background-color: #d4ebff;}#sk-container-id-2 div.sk-serial::before {content: \"\";position: absolute;border-left: 1px solid gray;box-sizing: border-box;top: 0;bottom: 0;left: 50%;z-index: 0;}#sk-container-id-2 div.sk-serial {display: flex;flex-direction: column;align-items: center;background-color: white;padding-right: 0.2em;padding-left: 0.2em;position: relative;}#sk-container-id-2 div.sk-item {position: relative;z-index: 1;}#sk-container-id-2 div.sk-parallel {display: flex;align-items: stretch;justify-content: center;background-color: white;position: relative;}#sk-container-id-2 div.sk-item::before, #sk-container-id-2 div.sk-parallel-item::before {content: \"\";position: absolute;border-left: 1px solid gray;box-sizing: border-box;top: 0;bottom: 0;left: 50%;z-index: -1;}#sk-container-id-2 div.sk-parallel-item {display: flex;flex-direction: column;z-index: 1;position: relative;background-color: white;}#sk-container-id-2 div.sk-parallel-item:first-child::after {align-self: flex-end;width: 50%;}#sk-container-id-2 div.sk-parallel-item:last-child::after {align-self: flex-start;width: 50%;}#sk-container-id-2 div.sk-parallel-item:only-child::after {width: 0;}#sk-container-id-2 div.sk-dashed-wrapped {border: 1px dashed gray;margin: 0 0.4em 0.5em 0.4em;box-sizing: border-box;padding-bottom: 0.4em;background-color: white;}#sk-container-id-2 div.sk-label label {font-family: monospace;font-weight: bold;display: inline-block;line-height: 1.2em;}#sk-container-id-2 div.sk-label-container {text-align: center;}#sk-container-id-2 div.sk-container {/* jupyter's `normalize.less` sets `[hidden] { display: none; }` but bootstrap.min.css set `[hidden] { display: none !important; }` so we also need the `!important` here to be able to override the default hidden behavior on the sphinx rendered scikit-learn.org. See: https://github.com/scikit-learn/scikit-learn/issues/21755 */display: inline-block !important;position: relative;}#sk-container-id-2 div.sk-text-repr-fallback {display: none;}</style><div id=\"sk-container-id-2\" class=\"sk-top-container\"><div class=\"sk-text-repr-fallback\"><pre>NearestNeighbors(algorithm=&#x27;brute&#x27;, metric=&#x27;cosine&#x27;)</pre><b>In a Jupyter environment, please rerun this cell to show the HTML representation or trust the notebook. <br />On GitHub, the HTML representation is unable to render, please try loading this page with nbviewer.org.</b></div><div class=\"sk-container\" hidden><div class=\"sk-item\"><div class=\"sk-estimator sk-toggleable\"><input class=\"sk-toggleable__control sk-hidden--visually\" id=\"sk-estimator-id-2\" type=\"checkbox\" checked><label for=\"sk-estimator-id-2\" class=\"sk-toggleable__label sk-toggleable__label-arrow\">NearestNeighbors</label><div class=\"sk-toggleable__content\"><pre>NearestNeighbors(algorithm=&#x27;brute&#x27;, metric=&#x27;cosine&#x27;)</pre></div></div></div></div></div>"
      ],
      "text/plain": [
       "NearestNeighbors(algorithm='brute', metric='cosine')"
      ]
     },
     "execution_count": 31,
     "metadata": {},
     "output_type": "execute_result"
    }
   ],
   "source": [
    "from scipy.sparse import csr_matrix\n",
    "from sklearn.neighbors import NearestNeighbors\n",
    "rating_matrix = csr_matrix(rating_Pivot)\n",
    "\n",
    "model_KNN = NearestNeighbors(metric=\"cosine\", algorithm=\"brute\")\n",
    "model_KNN.fit(rating_matrix)"
   ]
  },
  {
   "cell_type": "markdown",
   "id": "E_JDXMckNH7X",
   "metadata": {
    "id": "E_JDXMckNH7X"
   },
   "source": [
    "Now, we will extract the ratings matrix for the movie **\"Shrek\"** and find the 5 nearest neighbors for this movie using the model that we just fit.\n",
    "<img src=\"img/sherek.jpg\" alt=\"Description\" width=\"200\" height=\"120\">"
   ]
  },
  {
   "cell_type": "code",
   "execution_count": 33,
   "id": "0bc1927e-a8de-4ba0-b02d-be056ee4e65f",
   "metadata": {
    "id": "0bc1927e-a8de-4ba0-b02d-be056ee4e65f"
   },
   "outputs": [],
   "source": [
    "ShrekMetrix = np.array(movie_Pivot[\"Shrek\"].fillna(0)).reshape(1,-1)\n",
    "distance , neighbor = model_KNN.kneighbors(ShrekMetrix , n_neighbors=5)"
   ]
  },
  {
   "cell_type": "markdown",
   "id": "0mRf8cyzPEUf",
   "metadata": {
    "id": "0mRf8cyzPEUf"
   },
   "source": [
    "Now , let's list out the nearest movies"
   ]
  },
  {
   "cell_type": "code",
   "execution_count": 34,
   "id": "caf0059b-4f38-4718-8e49-ba23d825b178",
   "metadata": {
    "colab": {
     "base_uri": "https://localhost:8080/"
    },
    "id": "caf0059b-4f38-4718-8e49-ba23d825b178",
    "outputId": "9be751be-1243-4d11-b722-249e8a86f8c5"
   },
   "outputs": [
    {
     "name": "stdout",
     "output_type": "stream",
     "text": [
      "closses movies to  ( Shrek ) : \n",
      "  \n",
      "2:( Monsters, Inc. )  distance => : 0.361110207885454 \n",
      "3:( Finding Nemo )  distance => : 0.36597993409505347 \n",
      "4:( Lord of the Rings: The Fellowship of the Ring, The )  distance => : 0.36840866704134534 \n",
      "5:( Pirates of the Caribbean: The Curse of the Black Pearl )  distance => : 0.38939525382499296 \n"
     ]
    }
   ],
   "source": [
    "for i in range(0 , len(distance.flatten())):\n",
    "  movie =rating_Pivot.iloc[neighbor.flatten()[i]].name\n",
    "\n",
    "  if i == 0 :\n",
    "    print(f\"closses movies to  ( {movie} ) : \\n  \")\n",
    "  else :\n",
    "    print(f\"{i+1}:( {movie} )  distance => : {distance.flatten()[i]} \")"
   ]
  },
  {
   "cell_type": "markdown",
   "id": "ImkhUwyQ5U2o",
   "metadata": {
    "id": "ImkhUwyQ5U2o"
   },
   "source": [
    "Wow, look at the first two movies: \"Monsters, Inc.\" and \"Finding Nemo\"! They are both awesome and perfect for Shrek fans.\n",
    "\n",
    "<p float=\"left\">\n",
    "  <img src=\"img/nemo.jpg\" alt=\"Finding Nemo\" width=\"200\" height=\"120\">\n",
    "  <img src=\"img/monster_inc.jpg\" alt=\"Monsters, Inc.\" width=\"200\" height=\"120\">\n",
    "</p>\n"
   ]
  },
  {
   "cell_type": "markdown",
   "id": "Kqwthuwj_pwo",
   "metadata": {
    "id": "Kqwthuwj_pwo"
   },
   "source": [
    "## content based filtering\n",
    "`Content-based filtering` is a recommendation system technique that recommends items based on their features or attributes, such as genre, keywords, or descriptions, matching the user's preferences derived from past interactions or profiles."
   ]
  },
  {
   "cell_type": "markdown",
   "id": "GhHuABthQtVT",
   "metadata": {
    "id": "GhHuABthQtVT"
   },
   "source": [
    "For this part, I have an additional dataset containing descriptions for each movie. We will use this dataset to conduct content-based filtering based on the description of each movie.\n"
   ]
  },
  {
   "cell_type": "code",
   "execution_count": 37,
   "id": "iOCHIHf7Cjti",
   "metadata": {
    "colab": {
     "base_uri": "https://localhost:8080/",
     "height": 206
    },
    "id": "iOCHIHf7Cjti",
    "outputId": "02c2bf8c-53f4-4a7d-f940-a976d238dcbc"
   },
   "outputs": [
    {
     "data": {
      "text/html": [
       "<div>\n",
       "<style scoped>\n",
       "    .dataframe tbody tr th:only-of-type {\n",
       "        vertical-align: middle;\n",
       "    }\n",
       "\n",
       "    .dataframe tbody tr th {\n",
       "        vertical-align: top;\n",
       "    }\n",
       "\n",
       "    .dataframe thead th {\n",
       "        text-align: right;\n",
       "    }\n",
       "</style>\n",
       "<table border=\"1\" class=\"dataframe\">\n",
       "  <thead>\n",
       "    <tr style=\"text-align: right;\">\n",
       "      <th></th>\n",
       "      <th>title</th>\n",
       "      <th>description</th>\n",
       "    </tr>\n",
       "  </thead>\n",
       "  <tbody>\n",
       "    <tr>\n",
       "      <th>0</th>\n",
       "      <td>Toy Story</td>\n",
       "      <td>Led by Woody, Andy's toys live happily in his ...</td>\n",
       "    </tr>\n",
       "    <tr>\n",
       "      <th>1</th>\n",
       "      <td>Jumanji</td>\n",
       "      <td>When siblings Judy and Peter discover an encha...</td>\n",
       "    </tr>\n",
       "    <tr>\n",
       "      <th>2</th>\n",
       "      <td>Grumpier Old Men</td>\n",
       "      <td>A family wedding reignites the ancient feud be...</td>\n",
       "    </tr>\n",
       "    <tr>\n",
       "      <th>3</th>\n",
       "      <td>Waiting to Exhale</td>\n",
       "      <td>Cheated on, mistreated and stepped on, the wom...</td>\n",
       "    </tr>\n",
       "    <tr>\n",
       "      <th>4</th>\n",
       "      <td>Father of the Bride Part II</td>\n",
       "      <td>Just when George Banks has recovered from his ...</td>\n",
       "    </tr>\n",
       "  </tbody>\n",
       "</table>\n",
       "</div>"
      ],
      "text/plain": [
       "                         title  \\\n",
       "0                    Toy Story   \n",
       "1                      Jumanji   \n",
       "2             Grumpier Old Men   \n",
       "3            Waiting to Exhale   \n",
       "4  Father of the Bride Part II   \n",
       "\n",
       "                                         description  \n",
       "0  Led by Woody, Andy's toys live happily in his ...  \n",
       "1  When siblings Judy and Peter discover an encha...  \n",
       "2  A family wedding reignites the ancient feud be...  \n",
       "3  Cheated on, mistreated and stepped on, the wom...  \n",
       "4  Just when George Banks has recovered from his ...  "
      ]
     },
     "execution_count": 37,
     "metadata": {},
     "output_type": "execute_result"
    }
   ],
   "source": [
    "desc = pd.read_csv(\"data/CleanedData/description.csv\")\n",
    "desc.head()"
   ]
  },
  {
   "cell_type": "markdown",
   "id": "tJgeyXRYR1N6",
   "metadata": {
    "id": "tJgeyXRYR1N6"
   },
   "source": [
    "let's add the description to the movies dataset"
   ]
  },
  {
   "cell_type": "code",
   "execution_count": 38,
   "id": "USkfoNeOC5BJ",
   "metadata": {
    "colab": {
     "base_uri": "https://localhost:8080/",
     "height": 81
    },
    "id": "USkfoNeOC5BJ",
    "outputId": "ce4d6d1e-ad49-468b-ab97-ff7a4f073d25"
   },
   "outputs": [
    {
     "data": {
      "text/html": [
       "<div>\n",
       "<style scoped>\n",
       "    .dataframe tbody tr th:only-of-type {\n",
       "        vertical-align: middle;\n",
       "    }\n",
       "\n",
       "    .dataframe tbody tr th {\n",
       "        vertical-align: top;\n",
       "    }\n",
       "\n",
       "    .dataframe thead th {\n",
       "        text-align: right;\n",
       "    }\n",
       "</style>\n",
       "<table border=\"1\" class=\"dataframe\">\n",
       "  <thead>\n",
       "    <tr style=\"text-align: right;\">\n",
       "      <th></th>\n",
       "      <th>movieId</th>\n",
       "      <th>title</th>\n",
       "      <th>genres</th>\n",
       "      <th>year</th>\n",
       "      <th>description</th>\n",
       "    </tr>\n",
       "  </thead>\n",
       "  <tbody>\n",
       "    <tr>\n",
       "      <th>0</th>\n",
       "      <td>1</td>\n",
       "      <td>Toy Story</td>\n",
       "      <td>['Adventure', 'Animation', 'Children', 'Comedy...</td>\n",
       "      <td>1995</td>\n",
       "      <td>Led by Woody, Andy's toys live happily in his ...</td>\n",
       "    </tr>\n",
       "  </tbody>\n",
       "</table>\n",
       "</div>"
      ],
      "text/plain": [
       "   movieId      title                                             genres  \\\n",
       "0        1  Toy Story  ['Adventure', 'Animation', 'Children', 'Comedy...   \n",
       "\n",
       "   year                                        description  \n",
       "0  1995  Led by Woody, Andy's toys live happily in his ...  "
      ]
     },
     "execution_count": 38,
     "metadata": {},
     "output_type": "execute_result"
    }
   ],
   "source": [
    "movies_desc = movies.merge(desc , on= \"title\")\n",
    "movies_desc.head(1)"
   ]
  },
  {
   "cell_type": "markdown",
   "id": "fsyJc2cHSEci",
   "metadata": {
    "id": "fsyJc2cHSEci"
   },
   "source": [
    "We will use the `TfidfVectorizer` from `sklearn` to vectorize the movie descriptions because computers understand numbers, not text. First, let's import `TfidfVectorizer` and set the parameters.\n"
   ]
  },
  {
   "cell_type": "code",
   "execution_count": 39,
   "id": "1zYccYgUDKp_",
   "metadata": {
    "id": "1zYccYgUDKp_"
   },
   "outputs": [],
   "source": [
    "from sklearn.feature_extraction.text import TfidfVectorizer\n",
    "\n",
    "tfv = TfidfVectorizer(min_df=3 , max_features=None ,\n",
    "                     strip_accents=\"unicode\" , analyzer=\"word\" ,\n",
    "                      token_pattern=\"r'\\w{1,}\" , ngram_range=(1,3),\n",
    "                      stop_words=\"english\")\n",
    "#filling the null value with \"\"\n",
    "movies_desc[\"description\"] = movies_desc[\"description\"].fillna(\"\")\n",
    "# fitting the descriptions to the model\n",
    "tfv_matrix = tfv.fit_transform(movies_desc[\"description\"])"
   ]
  },
  {
   "cell_type": "markdown",
   "id": "pGV5_3X-TAB1",
   "metadata": {
    "id": "pGV5_3X-TAB1"
   },
   "source": [
    "Next, from `sklearn`, we will import `sigmoid_kernel` and assign the TF-IDF vectorized matrix to it.\n"
   ]
  },
  {
   "cell_type": "code",
   "execution_count": 40,
   "id": "Pg2dx0CXK4yu",
   "metadata": {
    "id": "Pg2dx0CXK4yu"
   },
   "outputs": [],
   "source": [
    "from sklearn.metrics.pairwise import sigmoid_kernel\n",
    "\n",
    "sigmoid = sigmoid_kernel(tfv_matrix , tfv_matrix)"
   ]
  },
  {
   "cell_type": "code",
   "execution_count": 41,
   "id": "rtqhzAFcLPc3",
   "metadata": {
    "colab": {
     "base_uri": "https://localhost:8080/"
    },
    "id": "rtqhzAFcLPc3",
    "outputId": "70a5ba88-d1bd-4a4e-c7c7-9280b309d998"
   },
   "outputs": [
    {
     "data": {
      "text/plain": [
       "array([0.76159416, 0.76159416, 0.76159416, ..., 0.76159416, 0.76159416,\n",
       "       0.76159416])"
      ]
     },
     "execution_count": 41,
     "metadata": {},
     "output_type": "execute_result"
    }
   ],
   "source": [
    "sigmoid[0]"
   ]
  },
  {
   "cell_type": "markdown",
   "id": "O78hAnAPT0px",
   "metadata": {
    "id": "O78hAnAPT0px"
   },
   "source": [
    "Now, let's retrieve the index for every movie. We will use these indices later to extract each movie's title.\n"
   ]
  },
  {
   "cell_type": "code",
   "execution_count": 42,
   "id": "K5TXCCddLQ3F",
   "metadata": {
    "colab": {
     "base_uri": "https://localhost:8080/"
    },
    "id": "K5TXCCddLQ3F",
    "outputId": "c8c7dd58-1ce2-42c0-c401-ce2a8479b9c6"
   },
   "outputs": [
    {
     "data": {
      "text/plain": [
       "title\n",
       "Toy Story                                              0\n",
       "Jumanji                                                1\n",
       "Grumpier Old Men                                       2\n",
       "Waiting to Exhale                                      3\n",
       "Father of the Bride Part II                            4\n",
       "                                                   ...  \n",
       "Obsession: Radical Islam's War Against the West    24355\n",
       "Hollywood High                                     24356\n",
       "Bloodmoney                                         24357\n",
       "The Butterfly Circus                               24358\n",
       "The 2000 Year Old Man                              24359\n",
       "Length: 24360, dtype: int64"
      ]
     },
     "execution_count": 42,
     "metadata": {},
     "output_type": "execute_result"
    }
   ],
   "source": [
    "indices = pd.Series(movies_desc.index, index=movies_desc['title']).drop_duplicates()\n",
    "indices"
   ]
  },
  {
   "cell_type": "markdown",
   "id": "zCPUGdHFUR5M",
   "metadata": {
    "id": "zCPUGdHFUR5M"
   },
   "source": [
    "Next, we will build a function that takes a movie title, uses the sigmoid kernel function to calculate the similarity scores between that movie and others based on their descriptions, and displays the top 5 similar movies.\n"
   ]
  },
  {
   "cell_type": "code",
   "execution_count": 43,
   "id": "X63CYWzQMPq_",
   "metadata": {
    "id": "X63CYWzQMPq_"
   },
   "outputs": [],
   "source": [
    "def Content_recommendation(title, sig=sigmoid):\n",
    "\n",
    "    idx = indices[title]\n",
    "\n",
    "    sig_scores = list(enumerate(sig[3]))\n",
    "\n",
    "\n",
    "    sig_scores = sorted(sig_scores, key=lambda x: x[1], reverse=True)\n",
    "\n",
    "\n",
    "    sig_scores = sig_scores[1:6]\n",
    "\n",
    "    movie_indices = [i[0] for i in sig_scores]\n",
    "\n",
    "    return movies_desc['title'].iloc[movie_indices]"
   ]
  },
  {
   "cell_type": "code",
   "execution_count": 61,
   "id": "1apln1EzNAgm",
   "metadata": {
    "colab": {
     "base_uri": "https://localhost:8080/"
    },
    "id": "1apln1EzNAgm",
    "outputId": "2a738138-6ae8-4b39-f574-7179499aaf5f"
   },
   "outputs": [
    {
     "data": {
      "text/plain": [
       "1                        Jumanji\n",
       "2               Grumpier Old Men\n",
       "3              Waiting to Exhale\n",
       "4    Father of the Bride Part II\n",
       "5                           Heat\n",
       "Name: title, dtype: object"
      ]
     },
     "execution_count": 61,
     "metadata": {},
     "output_type": "execute_result"
    }
   ],
   "source": [
    "Content_recommendation(\"Jumanji\")"
   ]
  },
  {
   "cell_type": "markdown",
   "id": "d2505eac-6f60-467b-a769-4862827eeaa6",
   "metadata": {
    "id": "TpQ-Jl9LYGI5"
   },
   "source": [
    "<hr>\n",
    "\n",
    "Alright, that wraps it up! We explored different methods for recommending movies and, along the way, discovered some great films to add to our watchlist.\n"
   ]
  }
 ],
 "metadata": {
  "accelerator": "TPU",
  "colab": {
   "gpuType": "V28",
   "provenance": []
  },
  "kernelspec": {
   "display_name": "Python 3 (ipykernel)",
   "language": "python",
   "name": "python3"
  },
  "language_info": {
   "codemirror_mode": {
    "name": "ipython",
    "version": 3
   },
   "file_extension": ".py",
   "mimetype": "text/x-python",
   "name": "python",
   "nbconvert_exporter": "python",
   "pygments_lexer": "ipython3",
   "version": "3.11.7"
  }
 },
 "nbformat": 4,
 "nbformat_minor": 5
}
